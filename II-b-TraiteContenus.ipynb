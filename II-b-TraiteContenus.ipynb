{
  "nbformat": 4,
  "nbformat_minor": 0,
  "metadata": {
    "colab": {
      "name": "II-a-TraiteContenus.ipynb",
      "provenance": [],
      "collapsed_sections": []
    },
    "kernelspec": {
      "display_name": "Python 3",
      "name": "python3"
    },
    "language_info": {
      "name": "python"
    },
    "accelerator": "GPU"
  },
  "cells": [
    {
      "cell_type": "code",
      "metadata": {
        "id": "ZRg9_JkuW_UM",
        "colab": {
          "base_uri": "https://localhost:8080/"
        },
        "outputId": "511a75b0-ae62-4d12-bf87-40d5723aedb0"
      },
      "source": [
        "!pip install multidict\n",
        "!pip install -U spacy\n",
        "!python -m spacy download fr_core_news_sm\n"
      ],
      "execution_count": 1,
      "outputs": [
        {
          "output_type": "stream",
          "name": "stdout",
          "text": [
            "Collecting multidict\n",
            "  Downloading multidict-5.2.0-cp37-cp37m-manylinux_2_5_x86_64.manylinux1_x86_64.manylinux_2_12_x86_64.manylinux2010_x86_64.whl (160 kB)\n",
            "\u001b[?25l\r\u001b[K     |██                              | 10 kB 21.7 MB/s eta 0:00:01\r\u001b[K     |████                            | 20 kB 25.7 MB/s eta 0:00:01\r\u001b[K     |██████▏                         | 30 kB 12.1 MB/s eta 0:00:01\r\u001b[K     |████████▏                       | 40 kB 9.4 MB/s eta 0:00:01\r\u001b[K     |██████████▎                     | 51 kB 5.3 MB/s eta 0:00:01\r\u001b[K     |████████████▎                   | 61 kB 5.9 MB/s eta 0:00:01\r\u001b[K     |██████████████▎                 | 71 kB 5.7 MB/s eta 0:00:01\r\u001b[K     |████████████████▍               | 81 kB 6.5 MB/s eta 0:00:01\r\u001b[K     |██████████████████▍             | 92 kB 4.9 MB/s eta 0:00:01\r\u001b[K     |████████████████████▌           | 102 kB 5.3 MB/s eta 0:00:01\r\u001b[K     |██████████████████████▌         | 112 kB 5.3 MB/s eta 0:00:01\r\u001b[K     |████████████████████████▌       | 122 kB 5.3 MB/s eta 0:00:01\r\u001b[K     |██████████████████████████▋     | 133 kB 5.3 MB/s eta 0:00:01\r\u001b[K     |████████████████████████████▋   | 143 kB 5.3 MB/s eta 0:00:01\r\u001b[K     |██████████████████████████████▊ | 153 kB 5.3 MB/s eta 0:00:01\r\u001b[K     |████████████████████████████████| 160 kB 5.3 MB/s \n",
            "\u001b[?25hInstalling collected packages: multidict\n",
            "Successfully installed multidict-5.2.0\n",
            "Requirement already satisfied: spacy in /usr/local/lib/python3.7/dist-packages (2.2.4)\n",
            "Collecting spacy\n",
            "  Downloading spacy-3.2.0-cp37-cp37m-manylinux_2_17_x86_64.manylinux2014_x86_64.whl (6.0 MB)\n",
            "\u001b[K     |████████████████████████████████| 6.0 MB 4.5 MB/s \n",
            "\u001b[?25hRequirement already satisfied: typing-extensions<4.0.0.0,>=3.7.4 in /usr/local/lib/python3.7/dist-packages (from spacy) (3.10.0.2)\n",
            "Requirement already satisfied: jinja2 in /usr/local/lib/python3.7/dist-packages (from spacy) (2.11.3)\n",
            "Collecting spacy-loggers<2.0.0,>=1.0.0\n",
            "  Downloading spacy_loggers-1.0.1-py3-none-any.whl (7.0 kB)\n",
            "Requirement already satisfied: tqdm<5.0.0,>=4.38.0 in /usr/local/lib/python3.7/dist-packages (from spacy) (4.62.3)\n",
            "Requirement already satisfied: numpy>=1.15.0 in /usr/local/lib/python3.7/dist-packages (from spacy) (1.19.5)\n",
            "Requirement already satisfied: cymem<2.1.0,>=2.0.2 in /usr/local/lib/python3.7/dist-packages (from spacy) (2.0.6)\n",
            "Collecting pathy>=0.3.5\n",
            "  Downloading pathy-0.6.1-py3-none-any.whl (42 kB)\n",
            "\u001b[K     |████████████████████████████████| 42 kB 1.2 MB/s \n",
            "\u001b[?25hRequirement already satisfied: murmurhash<1.1.0,>=0.28.0 in /usr/local/lib/python3.7/dist-packages (from spacy) (1.0.6)\n",
            "Requirement already satisfied: requests<3.0.0,>=2.13.0 in /usr/local/lib/python3.7/dist-packages (from spacy) (2.23.0)\n",
            "Collecting thinc<8.1.0,>=8.0.12\n",
            "  Downloading thinc-8.0.13-cp37-cp37m-manylinux_2_17_x86_64.manylinux2014_x86_64.whl (628 kB)\n",
            "\u001b[K     |████████████████████████████████| 628 kB 44.6 MB/s \n",
            "\u001b[?25hRequirement already satisfied: preshed<3.1.0,>=3.0.2 in /usr/local/lib/python3.7/dist-packages (from spacy) (3.0.6)\n",
            "Collecting typer<0.5.0,>=0.3.0\n",
            "  Downloading typer-0.4.0-py3-none-any.whl (27 kB)\n",
            "Requirement already satisfied: blis<0.8.0,>=0.4.0 in /usr/local/lib/python3.7/dist-packages (from spacy) (0.4.1)\n",
            "Collecting srsly<3.0.0,>=2.4.1\n",
            "  Downloading srsly-2.4.2-cp37-cp37m-manylinux_2_17_x86_64.manylinux2014_x86_64.whl (451 kB)\n",
            "\u001b[K     |████████████████████████████████| 451 kB 48.4 MB/s \n",
            "\u001b[?25hCollecting spacy-legacy<3.1.0,>=3.0.8\n",
            "  Downloading spacy_legacy-3.0.8-py2.py3-none-any.whl (14 kB)\n",
            "Collecting pydantic!=1.8,!=1.8.1,<1.9.0,>=1.7.4\n",
            "  Downloading pydantic-1.8.2-cp37-cp37m-manylinux2014_x86_64.whl (10.1 MB)\n",
            "\u001b[K     |████████████████████████████████| 10.1 MB 38.8 MB/s \n",
            "\u001b[?25hRequirement already satisfied: packaging>=20.0 in /usr/local/lib/python3.7/dist-packages (from spacy) (21.3)\n",
            "Requirement already satisfied: setuptools in /usr/local/lib/python3.7/dist-packages (from spacy) (57.4.0)\n",
            "Collecting catalogue<2.1.0,>=2.0.6\n",
            "  Downloading catalogue-2.0.6-py3-none-any.whl (17 kB)\n",
            "Requirement already satisfied: wasabi<1.1.0,>=0.8.1 in /usr/local/lib/python3.7/dist-packages (from spacy) (0.8.2)\n",
            "Collecting langcodes<4.0.0,>=3.2.0\n",
            "  Downloading langcodes-3.3.0-py3-none-any.whl (181 kB)\n",
            "\u001b[K     |████████████████████████████████| 181 kB 47.3 MB/s \n",
            "\u001b[?25hRequirement already satisfied: zipp>=0.5 in /usr/local/lib/python3.7/dist-packages (from catalogue<2.1.0,>=2.0.6->spacy) (3.6.0)\n",
            "Requirement already satisfied: pyparsing!=3.0.5,>=2.0.2 in /usr/local/lib/python3.7/dist-packages (from packaging>=20.0->spacy) (3.0.6)\n",
            "Requirement already satisfied: smart-open<6.0.0,>=5.0.0 in /usr/local/lib/python3.7/dist-packages (from pathy>=0.3.5->spacy) (5.2.1)\n",
            "Requirement already satisfied: chardet<4,>=3.0.2 in /usr/local/lib/python3.7/dist-packages (from requests<3.0.0,>=2.13.0->spacy) (3.0.4)\n",
            "Requirement already satisfied: certifi>=2017.4.17 in /usr/local/lib/python3.7/dist-packages (from requests<3.0.0,>=2.13.0->spacy) (2021.10.8)\n",
            "Requirement already satisfied: idna<3,>=2.5 in /usr/local/lib/python3.7/dist-packages (from requests<3.0.0,>=2.13.0->spacy) (2.10)\n",
            "Requirement already satisfied: urllib3!=1.25.0,!=1.25.1,<1.26,>=1.21.1 in /usr/local/lib/python3.7/dist-packages (from requests<3.0.0,>=2.13.0->spacy) (1.24.3)\n",
            "Requirement already satisfied: click<9.0.0,>=7.1.1 in /usr/local/lib/python3.7/dist-packages (from typer<0.5.0,>=0.3.0->spacy) (7.1.2)\n",
            "Requirement already satisfied: MarkupSafe>=0.23 in /usr/local/lib/python3.7/dist-packages (from jinja2->spacy) (2.0.1)\n",
            "Installing collected packages: catalogue, typer, srsly, pydantic, thinc, spacy-loggers, spacy-legacy, pathy, langcodes, spacy\n",
            "  Attempting uninstall: catalogue\n",
            "    Found existing installation: catalogue 1.0.0\n",
            "    Uninstalling catalogue-1.0.0:\n",
            "      Successfully uninstalled catalogue-1.0.0\n",
            "  Attempting uninstall: srsly\n",
            "    Found existing installation: srsly 1.0.5\n",
            "    Uninstalling srsly-1.0.5:\n",
            "      Successfully uninstalled srsly-1.0.5\n",
            "  Attempting uninstall: thinc\n",
            "    Found existing installation: thinc 7.4.0\n",
            "    Uninstalling thinc-7.4.0:\n",
            "      Successfully uninstalled thinc-7.4.0\n",
            "  Attempting uninstall: spacy\n",
            "    Found existing installation: spacy 2.2.4\n",
            "    Uninstalling spacy-2.2.4:\n",
            "      Successfully uninstalled spacy-2.2.4\n",
            "Successfully installed catalogue-2.0.6 langcodes-3.3.0 pathy-0.6.1 pydantic-1.8.2 spacy-3.2.0 spacy-legacy-3.0.8 spacy-loggers-1.0.1 srsly-2.4.2 thinc-8.0.13 typer-0.4.0\n",
            "Collecting fr-core-news-sm==3.2.0\n",
            "  Downloading https://github.com/explosion/spacy-models/releases/download/fr_core_news_sm-3.2.0/fr_core_news_sm-3.2.0-py3-none-any.whl (17.4 MB)\n",
            "\u001b[K     |████████████████████████████████| 17.4 MB 461 kB/s \n",
            "\u001b[?25hRequirement already satisfied: spacy<3.3.0,>=3.2.0 in /usr/local/lib/python3.7/dist-packages (from fr-core-news-sm==3.2.0) (3.2.0)\n",
            "Requirement already satisfied: setuptools in /usr/local/lib/python3.7/dist-packages (from spacy<3.3.0,>=3.2.0->fr-core-news-sm==3.2.0) (57.4.0)\n",
            "Requirement already satisfied: srsly<3.0.0,>=2.4.1 in /usr/local/lib/python3.7/dist-packages (from spacy<3.3.0,>=3.2.0->fr-core-news-sm==3.2.0) (2.4.2)\n",
            "Requirement already satisfied: numpy>=1.15.0 in /usr/local/lib/python3.7/dist-packages (from spacy<3.3.0,>=3.2.0->fr-core-news-sm==3.2.0) (1.19.5)\n",
            "Requirement already satisfied: blis<0.8.0,>=0.4.0 in /usr/local/lib/python3.7/dist-packages (from spacy<3.3.0,>=3.2.0->fr-core-news-sm==3.2.0) (0.4.1)\n",
            "Requirement already satisfied: tqdm<5.0.0,>=4.38.0 in /usr/local/lib/python3.7/dist-packages (from spacy<3.3.0,>=3.2.0->fr-core-news-sm==3.2.0) (4.62.3)\n",
            "Requirement already satisfied: jinja2 in /usr/local/lib/python3.7/dist-packages (from spacy<3.3.0,>=3.2.0->fr-core-news-sm==3.2.0) (2.11.3)\n",
            "Requirement already satisfied: catalogue<2.1.0,>=2.0.6 in /usr/local/lib/python3.7/dist-packages (from spacy<3.3.0,>=3.2.0->fr-core-news-sm==3.2.0) (2.0.6)\n",
            "Requirement already satisfied: pydantic!=1.8,!=1.8.1,<1.9.0,>=1.7.4 in /usr/local/lib/python3.7/dist-packages (from spacy<3.3.0,>=3.2.0->fr-core-news-sm==3.2.0) (1.8.2)\n",
            "Requirement already satisfied: murmurhash<1.1.0,>=0.28.0 in /usr/local/lib/python3.7/dist-packages (from spacy<3.3.0,>=3.2.0->fr-core-news-sm==3.2.0) (1.0.6)\n",
            "Requirement already satisfied: thinc<8.1.0,>=8.0.12 in /usr/local/lib/python3.7/dist-packages (from spacy<3.3.0,>=3.2.0->fr-core-news-sm==3.2.0) (8.0.13)\n",
            "Requirement already satisfied: requests<3.0.0,>=2.13.0 in /usr/local/lib/python3.7/dist-packages (from spacy<3.3.0,>=3.2.0->fr-core-news-sm==3.2.0) (2.23.0)\n",
            "Requirement already satisfied: cymem<2.1.0,>=2.0.2 in /usr/local/lib/python3.7/dist-packages (from spacy<3.3.0,>=3.2.0->fr-core-news-sm==3.2.0) (2.0.6)\n",
            "Requirement already satisfied: pathy>=0.3.5 in /usr/local/lib/python3.7/dist-packages (from spacy<3.3.0,>=3.2.0->fr-core-news-sm==3.2.0) (0.6.1)\n",
            "Requirement already satisfied: packaging>=20.0 in /usr/local/lib/python3.7/dist-packages (from spacy<3.3.0,>=3.2.0->fr-core-news-sm==3.2.0) (21.3)\n",
            "Requirement already satisfied: preshed<3.1.0,>=3.0.2 in /usr/local/lib/python3.7/dist-packages (from spacy<3.3.0,>=3.2.0->fr-core-news-sm==3.2.0) (3.0.6)\n",
            "Requirement already satisfied: wasabi<1.1.0,>=0.8.1 in /usr/local/lib/python3.7/dist-packages (from spacy<3.3.0,>=3.2.0->fr-core-news-sm==3.2.0) (0.8.2)\n",
            "Requirement already satisfied: spacy-legacy<3.1.0,>=3.0.8 in /usr/local/lib/python3.7/dist-packages (from spacy<3.3.0,>=3.2.0->fr-core-news-sm==3.2.0) (3.0.8)\n",
            "Requirement already satisfied: spacy-loggers<2.0.0,>=1.0.0 in /usr/local/lib/python3.7/dist-packages (from spacy<3.3.0,>=3.2.0->fr-core-news-sm==3.2.0) (1.0.1)\n",
            "Requirement already satisfied: typer<0.5.0,>=0.3.0 in /usr/local/lib/python3.7/dist-packages (from spacy<3.3.0,>=3.2.0->fr-core-news-sm==3.2.0) (0.4.0)\n",
            "Requirement already satisfied: typing-extensions<4.0.0.0,>=3.7.4 in /usr/local/lib/python3.7/dist-packages (from spacy<3.3.0,>=3.2.0->fr-core-news-sm==3.2.0) (3.10.0.2)\n",
            "Requirement already satisfied: langcodes<4.0.0,>=3.2.0 in /usr/local/lib/python3.7/dist-packages (from spacy<3.3.0,>=3.2.0->fr-core-news-sm==3.2.0) (3.3.0)\n",
            "Requirement already satisfied: zipp>=0.5 in /usr/local/lib/python3.7/dist-packages (from catalogue<2.1.0,>=2.0.6->spacy<3.3.0,>=3.2.0->fr-core-news-sm==3.2.0) (3.6.0)\n",
            "Requirement already satisfied: pyparsing!=3.0.5,>=2.0.2 in /usr/local/lib/python3.7/dist-packages (from packaging>=20.0->spacy<3.3.0,>=3.2.0->fr-core-news-sm==3.2.0) (3.0.6)\n",
            "Requirement already satisfied: smart-open<6.0.0,>=5.0.0 in /usr/local/lib/python3.7/dist-packages (from pathy>=0.3.5->spacy<3.3.0,>=3.2.0->fr-core-news-sm==3.2.0) (5.2.1)\n",
            "Requirement already satisfied: certifi>=2017.4.17 in /usr/local/lib/python3.7/dist-packages (from requests<3.0.0,>=2.13.0->spacy<3.3.0,>=3.2.0->fr-core-news-sm==3.2.0) (2021.10.8)\n",
            "Requirement already satisfied: urllib3!=1.25.0,!=1.25.1,<1.26,>=1.21.1 in /usr/local/lib/python3.7/dist-packages (from requests<3.0.0,>=2.13.0->spacy<3.3.0,>=3.2.0->fr-core-news-sm==3.2.0) (1.24.3)\n",
            "Requirement already satisfied: idna<3,>=2.5 in /usr/local/lib/python3.7/dist-packages (from requests<3.0.0,>=2.13.0->spacy<3.3.0,>=3.2.0->fr-core-news-sm==3.2.0) (2.10)\n",
            "Requirement already satisfied: chardet<4,>=3.0.2 in /usr/local/lib/python3.7/dist-packages (from requests<3.0.0,>=2.13.0->spacy<3.3.0,>=3.2.0->fr-core-news-sm==3.2.0) (3.0.4)\n",
            "Requirement already satisfied: click<9.0.0,>=7.1.1 in /usr/local/lib/python3.7/dist-packages (from typer<0.5.0,>=0.3.0->spacy<3.3.0,>=3.2.0->fr-core-news-sm==3.2.0) (7.1.2)\n",
            "Requirement already satisfied: MarkupSafe>=0.23 in /usr/local/lib/python3.7/dist-packages (from jinja2->spacy<3.3.0,>=3.2.0->fr-core-news-sm==3.2.0) (2.0.1)\n",
            "Installing collected packages: fr-core-news-sm\n",
            "Successfully installed fr-core-news-sm-3.2.0\n",
            "\u001b[38;5;2m✔ Download and installation successful\u001b[0m\n",
            "You can now load the package via spacy.load('fr_core_news_sm')\n"
          ]
        }
      ]
    },
    {
      "cell_type": "code",
      "metadata": {
        "colab": {
          "base_uri": "https://localhost:8080/"
        },
        "id": "slDTBo0W1VCL",
        "outputId": "884edc9b-ce3b-4604-8248-dd888bc585e7"
      },
      "source": [
        "!pip install spacy-langdetect"
      ],
      "execution_count": 2,
      "outputs": [
        {
          "output_type": "stream",
          "name": "stdout",
          "text": [
            "Collecting spacy-langdetect\n",
            "  Downloading spacy_langdetect-0.1.2-py3-none-any.whl (5.0 kB)\n",
            "Requirement already satisfied: pytest in /usr/local/lib/python3.7/dist-packages (from spacy-langdetect) (3.6.4)\n",
            "Collecting langdetect==1.0.7\n",
            "  Downloading langdetect-1.0.7.zip (998 kB)\n",
            "\u001b[K     |████████████████████████████████| 998 kB 5.2 MB/s \n",
            "\u001b[?25hRequirement already satisfied: six in /usr/local/lib/python3.7/dist-packages (from langdetect==1.0.7->spacy-langdetect) (1.15.0)\n",
            "Requirement already satisfied: atomicwrites>=1.0 in /usr/local/lib/python3.7/dist-packages (from pytest->spacy-langdetect) (1.4.0)\n",
            "Requirement already satisfied: setuptools in /usr/local/lib/python3.7/dist-packages (from pytest->spacy-langdetect) (57.4.0)\n",
            "Requirement already satisfied: py>=1.5.0 in /usr/local/lib/python3.7/dist-packages (from pytest->spacy-langdetect) (1.11.0)\n",
            "Requirement already satisfied: more-itertools>=4.0.0 in /usr/local/lib/python3.7/dist-packages (from pytest->spacy-langdetect) (8.11.0)\n",
            "Requirement already satisfied: attrs>=17.4.0 in /usr/local/lib/python3.7/dist-packages (from pytest->spacy-langdetect) (21.2.0)\n",
            "Requirement already satisfied: pluggy<0.8,>=0.5 in /usr/local/lib/python3.7/dist-packages (from pytest->spacy-langdetect) (0.7.1)\n",
            "Building wheels for collected packages: langdetect\n",
            "  Building wheel for langdetect (setup.py) ... \u001b[?25l\u001b[?25hdone\n",
            "  Created wheel for langdetect: filename=langdetect-1.0.7-py3-none-any.whl size=993430 sha256=bb3a7cd690acb18efeb3eb98709e17bf3ee101331a7ec4939ec91ac38409ec98\n",
            "  Stored in directory: /root/.cache/pip/wheels/89/79/3b/9885ae7f4308f73c514f96d8574d40d7d8173a27731b674013\n",
            "Successfully built langdetect\n",
            "Installing collected packages: langdetect, spacy-langdetect\n",
            "Successfully installed langdetect-1.0.7 spacy-langdetect-0.1.2\n"
          ]
        }
      ]
    },
    {
      "cell_type": "code",
      "metadata": {
        "id": "f4WrQ7OQgRq4",
        "colab": {
          "base_uri": "https://localhost:8080/"
        },
        "outputId": "4f80777b-048b-489e-9cfa-5d66b18ad3bc"
      },
      "source": [
        "# évidemment un truc marche pas en ce moment\n",
        "!python -m spacy download fr_dep_news_trf"
      ],
      "execution_count": 3,
      "outputs": [
        {
          "output_type": "stream",
          "name": "stdout",
          "text": [
            "Collecting fr-dep-news-trf==3.2.0\n",
            "  Downloading https://github.com/explosion/spacy-models/releases/download/fr_dep_news_trf-3.2.0/fr_dep_news_trf-3.2.0-py3-none-any.whl (400.7 MB)\n",
            "\u001b[K     |████████████████████████████████| 400.7 MB 22 kB/s \n",
            "\u001b[?25hRequirement already satisfied: spacy<3.3.0,>=3.2.0 in /usr/local/lib/python3.7/dist-packages (from fr-dep-news-trf==3.2.0) (3.2.0)\n",
            "Collecting sentencepiece!=0.1.92,>=0.1.91\n",
            "  Downloading sentencepiece-0.1.96-cp37-cp37m-manylinux_2_17_x86_64.manylinux2014_x86_64.whl (1.2 MB)\n",
            "\u001b[K     |████████████████████████████████| 1.2 MB 5.4 MB/s \n",
            "\u001b[?25hCollecting spacy-transformers<1.2.0,>=1.1.2\n",
            "  Downloading spacy_transformers-1.1.2-py2.py3-none-any.whl (51 kB)\n",
            "\u001b[K     |████████████████████████████████| 51 kB 139 kB/s \n",
            "\u001b[?25hRequirement already satisfied: protobuf in /usr/local/lib/python3.7/dist-packages (from fr-dep-news-trf==3.2.0) (3.17.3)\n",
            "Requirement already satisfied: pydantic!=1.8,!=1.8.1,<1.9.0,>=1.7.4 in /usr/local/lib/python3.7/dist-packages (from spacy<3.3.0,>=3.2.0->fr-dep-news-trf==3.2.0) (1.8.2)\n",
            "Requirement already satisfied: srsly<3.0.0,>=2.4.1 in /usr/local/lib/python3.7/dist-packages (from spacy<3.3.0,>=3.2.0->fr-dep-news-trf==3.2.0) (2.4.2)\n",
            "Requirement already satisfied: blis<0.8.0,>=0.4.0 in /usr/local/lib/python3.7/dist-packages (from spacy<3.3.0,>=3.2.0->fr-dep-news-trf==3.2.0) (0.4.1)\n",
            "Requirement already satisfied: wasabi<1.1.0,>=0.8.1 in /usr/local/lib/python3.7/dist-packages (from spacy<3.3.0,>=3.2.0->fr-dep-news-trf==3.2.0) (0.8.2)\n",
            "Requirement already satisfied: preshed<3.1.0,>=3.0.2 in /usr/local/lib/python3.7/dist-packages (from spacy<3.3.0,>=3.2.0->fr-dep-news-trf==3.2.0) (3.0.6)\n",
            "Requirement already satisfied: catalogue<2.1.0,>=2.0.6 in /usr/local/lib/python3.7/dist-packages (from spacy<3.3.0,>=3.2.0->fr-dep-news-trf==3.2.0) (2.0.6)\n",
            "Requirement already satisfied: typing-extensions<4.0.0.0,>=3.7.4 in /usr/local/lib/python3.7/dist-packages (from spacy<3.3.0,>=3.2.0->fr-dep-news-trf==3.2.0) (3.10.0.2)\n",
            "Requirement already satisfied: packaging>=20.0 in /usr/local/lib/python3.7/dist-packages (from spacy<3.3.0,>=3.2.0->fr-dep-news-trf==3.2.0) (21.3)\n",
            "Requirement already satisfied: spacy-legacy<3.1.0,>=3.0.8 in /usr/local/lib/python3.7/dist-packages (from spacy<3.3.0,>=3.2.0->fr-dep-news-trf==3.2.0) (3.0.8)\n",
            "Requirement already satisfied: jinja2 in /usr/local/lib/python3.7/dist-packages (from spacy<3.3.0,>=3.2.0->fr-dep-news-trf==3.2.0) (2.11.3)\n",
            "Requirement already satisfied: cymem<2.1.0,>=2.0.2 in /usr/local/lib/python3.7/dist-packages (from spacy<3.3.0,>=3.2.0->fr-dep-news-trf==3.2.0) (2.0.6)\n",
            "Requirement already satisfied: setuptools in /usr/local/lib/python3.7/dist-packages (from spacy<3.3.0,>=3.2.0->fr-dep-news-trf==3.2.0) (57.4.0)\n",
            "Requirement already satisfied: tqdm<5.0.0,>=4.38.0 in /usr/local/lib/python3.7/dist-packages (from spacy<3.3.0,>=3.2.0->fr-dep-news-trf==3.2.0) (4.62.3)\n",
            "Requirement already satisfied: pathy>=0.3.5 in /usr/local/lib/python3.7/dist-packages (from spacy<3.3.0,>=3.2.0->fr-dep-news-trf==3.2.0) (0.6.1)\n",
            "Requirement already satisfied: murmurhash<1.1.0,>=0.28.0 in /usr/local/lib/python3.7/dist-packages (from spacy<3.3.0,>=3.2.0->fr-dep-news-trf==3.2.0) (1.0.6)\n",
            "Requirement already satisfied: requests<3.0.0,>=2.13.0 in /usr/local/lib/python3.7/dist-packages (from spacy<3.3.0,>=3.2.0->fr-dep-news-trf==3.2.0) (2.23.0)\n",
            "Requirement already satisfied: numpy>=1.15.0 in /usr/local/lib/python3.7/dist-packages (from spacy<3.3.0,>=3.2.0->fr-dep-news-trf==3.2.0) (1.19.5)\n",
            "Requirement already satisfied: typer<0.5.0,>=0.3.0 in /usr/local/lib/python3.7/dist-packages (from spacy<3.3.0,>=3.2.0->fr-dep-news-trf==3.2.0) (0.4.0)\n",
            "Requirement already satisfied: thinc<8.1.0,>=8.0.12 in /usr/local/lib/python3.7/dist-packages (from spacy<3.3.0,>=3.2.0->fr-dep-news-trf==3.2.0) (8.0.13)\n",
            "Requirement already satisfied: spacy-loggers<2.0.0,>=1.0.0 in /usr/local/lib/python3.7/dist-packages (from spacy<3.3.0,>=3.2.0->fr-dep-news-trf==3.2.0) (1.0.1)\n",
            "Requirement already satisfied: langcodes<4.0.0,>=3.2.0 in /usr/local/lib/python3.7/dist-packages (from spacy<3.3.0,>=3.2.0->fr-dep-news-trf==3.2.0) (3.3.0)\n",
            "Requirement already satisfied: zipp>=0.5 in /usr/local/lib/python3.7/dist-packages (from catalogue<2.1.0,>=2.0.6->spacy<3.3.0,>=3.2.0->fr-dep-news-trf==3.2.0) (3.6.0)\n",
            "Requirement already satisfied: pyparsing!=3.0.5,>=2.0.2 in /usr/local/lib/python3.7/dist-packages (from packaging>=20.0->spacy<3.3.0,>=3.2.0->fr-dep-news-trf==3.2.0) (3.0.6)\n",
            "Requirement already satisfied: smart-open<6.0.0,>=5.0.0 in /usr/local/lib/python3.7/dist-packages (from pathy>=0.3.5->spacy<3.3.0,>=3.2.0->fr-dep-news-trf==3.2.0) (5.2.1)\n",
            "Requirement already satisfied: idna<3,>=2.5 in /usr/local/lib/python3.7/dist-packages (from requests<3.0.0,>=2.13.0->spacy<3.3.0,>=3.2.0->fr-dep-news-trf==3.2.0) (2.10)\n",
            "Requirement already satisfied: certifi>=2017.4.17 in /usr/local/lib/python3.7/dist-packages (from requests<3.0.0,>=2.13.0->spacy<3.3.0,>=3.2.0->fr-dep-news-trf==3.2.0) (2021.10.8)\n",
            "Requirement already satisfied: urllib3!=1.25.0,!=1.25.1,<1.26,>=1.21.1 in /usr/local/lib/python3.7/dist-packages (from requests<3.0.0,>=2.13.0->spacy<3.3.0,>=3.2.0->fr-dep-news-trf==3.2.0) (1.24.3)\n",
            "Requirement already satisfied: chardet<4,>=3.0.2 in /usr/local/lib/python3.7/dist-packages (from requests<3.0.0,>=2.13.0->spacy<3.3.0,>=3.2.0->fr-dep-news-trf==3.2.0) (3.0.4)\n",
            "Collecting spacy-alignments<1.0.0,>=0.7.2\n",
            "  Downloading spacy_alignments-0.8.4-cp37-cp37m-manylinux_2_17_x86_64.manylinux2014_x86_64.whl (1.1 MB)\n",
            "\u001b[K     |████████████████████████████████| 1.1 MB 35.9 MB/s \n",
            "\u001b[?25hRequirement already satisfied: torch>=1.6.0 in /usr/local/lib/python3.7/dist-packages (from spacy-transformers<1.2.0,>=1.1.2->fr-dep-news-trf==3.2.0) (1.10.0+cu111)\n",
            "Collecting transformers<4.12.0,>=3.4.0\n",
            "  Downloading transformers-4.11.3-py3-none-any.whl (2.9 MB)\n",
            "\u001b[K     |████████████████████████████████| 2.9 MB 23.4 MB/s \n",
            "\u001b[?25hCollecting pyyaml>=5.1\n",
            "  Downloading PyYAML-6.0-cp37-cp37m-manylinux_2_5_x86_64.manylinux1_x86_64.manylinux_2_12_x86_64.manylinux2010_x86_64.whl (596 kB)\n",
            "\u001b[K     |████████████████████████████████| 596 kB 44.1 MB/s \n",
            "\u001b[?25hCollecting tokenizers<0.11,>=0.10.1\n",
            "  Downloading tokenizers-0.10.3-cp37-cp37m-manylinux_2_5_x86_64.manylinux1_x86_64.manylinux_2_12_x86_64.manylinux2010_x86_64.whl (3.3 MB)\n",
            "\u001b[K     |████████████████████████████████| 3.3 MB 43.6 MB/s \n",
            "\u001b[?25hCollecting huggingface-hub>=0.0.17\n",
            "  Downloading huggingface_hub-0.1.2-py3-none-any.whl (59 kB)\n",
            "\u001b[K     |████████████████████████████████| 59 kB 6.4 MB/s \n",
            "\u001b[?25hCollecting sacremoses\n",
            "  Downloading sacremoses-0.0.46-py3-none-any.whl (895 kB)\n",
            "\u001b[K     |████████████████████████████████| 895 kB 55.2 MB/s \n",
            "\u001b[?25hRequirement already satisfied: filelock in /usr/local/lib/python3.7/dist-packages (from transformers<4.12.0,>=3.4.0->spacy-transformers<1.2.0,>=1.1.2->fr-dep-news-trf==3.2.0) (3.4.0)\n",
            "Requirement already satisfied: importlib-metadata in /usr/local/lib/python3.7/dist-packages (from transformers<4.12.0,>=3.4.0->spacy-transformers<1.2.0,>=1.1.2->fr-dep-news-trf==3.2.0) (4.8.2)\n",
            "Requirement already satisfied: regex!=2019.12.17 in /usr/local/lib/python3.7/dist-packages (from transformers<4.12.0,>=3.4.0->spacy-transformers<1.2.0,>=1.1.2->fr-dep-news-trf==3.2.0) (2019.12.20)\n",
            "Requirement already satisfied: click<9.0.0,>=7.1.1 in /usr/local/lib/python3.7/dist-packages (from typer<0.5.0,>=0.3.0->spacy<3.3.0,>=3.2.0->fr-dep-news-trf==3.2.0) (7.1.2)\n",
            "Requirement already satisfied: MarkupSafe>=0.23 in /usr/local/lib/python3.7/dist-packages (from jinja2->spacy<3.3.0,>=3.2.0->fr-dep-news-trf==3.2.0) (2.0.1)\n",
            "Requirement already satisfied: six>=1.9 in /usr/local/lib/python3.7/dist-packages (from protobuf->fr-dep-news-trf==3.2.0) (1.15.0)\n",
            "Requirement already satisfied: joblib in /usr/local/lib/python3.7/dist-packages (from sacremoses->transformers<4.12.0,>=3.4.0->spacy-transformers<1.2.0,>=1.1.2->fr-dep-news-trf==3.2.0) (1.1.0)\n",
            "Installing collected packages: pyyaml, tokenizers, sacremoses, huggingface-hub, transformers, spacy-alignments, spacy-transformers, sentencepiece, fr-dep-news-trf\n",
            "  Attempting uninstall: pyyaml\n",
            "    Found existing installation: PyYAML 3.13\n",
            "    Uninstalling PyYAML-3.13:\n",
            "      Successfully uninstalled PyYAML-3.13\n",
            "Successfully installed fr-dep-news-trf-3.2.0 huggingface-hub-0.1.2 pyyaml-6.0 sacremoses-0.0.46 sentencepiece-0.1.96 spacy-alignments-0.8.4 spacy-transformers-1.1.2 tokenizers-0.10.3 transformers-4.11.3\n",
            "\u001b[38;5;2m✔ Download and installation successful\u001b[0m\n",
            "You can now load the package via spacy.load('fr_dep_news_trf')\n"
          ]
        }
      ]
    },
    {
      "cell_type": "code",
      "metadata": {
        "id": "RYyE6lYKmqYs"
      },
      "source": [
        "# https://github.com/explosion/spacy-models/releases/download/fr_dep_news_trf-3.2.0/fr_dep_news_trf-3.2.0-py3-none-any.whl"
      ],
      "execution_count": 4,
      "outputs": []
    },
    {
      "cell_type": "code",
      "metadata": {
        "id": "w2KO9v6tyVl2"
      },
      "source": [
        "# substitution sur une zone accessible\n",
        "#!pip install http://ecmn-tln.fr/fr_dep_news_trf-3.2.0-py3-none-any.whl"
      ],
      "execution_count": null,
      "outputs": []
    },
    {
      "cell_type": "markdown",
      "metadata": {
        "id": "-PMYOyn4XUSK"
      },
      "source": [
        "----\n",
        "## Ne pas oublier de relancer l'environnement\n",
        "----"
      ]
    },
    {
      "cell_type": "code",
      "metadata": {
        "id": "AMTtfiqIzDrD"
      },
      "source": [
        "stockageEntree = \"/content/DistorsionCom/OUT\"\n",
        "stockageSortie = \"/content/DistorsionCom/OUT\""
      ],
      "execution_count": null,
      "outputs": []
    },
    {
      "cell_type": "markdown",
      "metadata": {
        "id": "Txv0Pk7P_xbw"
      },
      "source": [
        "\n",
        "---\n",
        "Personnalisation"
      ]
    },
    {
      "cell_type": "markdown",
      "metadata": {
        "id": "3rntapC_RCnd"
      },
      "source": [
        "> Ces cellules permettent de réaliser les traitements à partir de son propre espace de stockage. A n'exécuter que dans ce cas en adaptant les dossiers d'entrée et sortie. NE PAS EXECUTER SAUF A VOULOIR PERSONNALISER LES TRAITEMENTS."
      ]
    },
    {
      "cell_type": "code",
      "metadata": {
        "colab": {
          "base_uri": "https://localhost:8080/"
        },
        "id": "cr3_QQJq_veT",
        "outputId": "b9681ac6-0d40-4d9a-fbc5-d2bd9f19e0ef"
      },
      "source": [
        "from google.colab import drive\n",
        "drive.mount('/content/drive')"
      ],
      "execution_count": 1,
      "outputs": [
        {
          "output_type": "stream",
          "name": "stdout",
          "text": [
            "Mounted at /content/drive\n"
          ]
        }
      ]
    },
    {
      "cell_type": "code",
      "metadata": {
        "id": "_ozLFiEG_w5H"
      },
      "source": [
        "# Récupérer les sorties sur son drive (créer un dossier \"OUT\")\n",
        "stockageSortie = \"/content/drive/MyDrive/OUT\""
      ],
      "execution_count": 2,
      "outputs": []
    },
    {
      "cell_type": "code",
      "metadata": {
        "id": "PpnXg8eWHorz"
      },
      "source": [
        "# Récupérer les entrées sur son drive\n",
        "stockageEntree = \"/content/drive/MyDrive/OUT\""
      ],
      "execution_count": 3,
      "outputs": []
    },
    {
      "cell_type": "markdown",
      "metadata": {
        "id": "wbKLKuPg_0jY"
      },
      "source": [
        "---"
      ]
    },
    {
      "cell_type": "code",
      "metadata": {
        "id": "6RlCJ1I7PeMd"
      },
      "source": [
        "import multidict as multidict\n",
        "import os, pickle, re, spacy\n",
        "from os import path\n",
        "from collections import Counter\n",
        "from spacy.language import Language\n",
        "from spacy_langdetect import LanguageDetector\n",
        "import pandas as pd\n",
        "from urllib import parse\n",
        "from outils import isPartner"
      ],
      "execution_count": null,
      "outputs": []
    },
    {
      "cell_type": "code",
      "metadata": {
        "id": "PnKDiHbz-5eH"
      },
      "source": [
        "def get_lang_detector(nlp, name):\n",
        "    return LanguageDetector()"
      ],
      "execution_count": null,
      "outputs": []
    },
    {
      "cell_type": "code",
      "metadata": {
        "id": "ZsGUtvqW_FIG",
        "colab": {
          "base_uri": "https://localhost:8080/"
        },
        "outputId": "993c6d56-e815-4221-e88f-bdbf4bccb0f3"
      },
      "source": [
        "# A ne pas lancer plusieurs fois !!\n",
        "Language.factory(\"language_detector\", func=get_lang_detector)"
      ],
      "execution_count": null,
      "outputs": [
        {
          "output_type": "execute_result",
          "data": {
            "text/plain": [
              "<function __main__.get_lang_detector>"
            ]
          },
          "metadata": {},
          "execution_count": 10
        }
      ]
    },
    {
      "cell_type": "markdown",
      "metadata": {
        "id": "gucArhrlrQfC"
      },
      "source": [
        "---"
      ]
    },
    {
      "cell_type": "markdown",
      "metadata": {
        "id": "1_naQNFrDc4a"
      },
      "source": [
        "# Prétraitements \n",
        "\n",
        "## Détection de langue\n",
        "> Les procédures de lemmatisation et autres fonctions TAL sont fonction de la langue. Seul le modèle FR est chargé. Les autres langues seront exclues."
      ]
    },
    {
      "cell_type": "code",
      "metadata": {
        "id": "lZYxIaF3fDbx"
      },
      "source": [
        "  # deux modèles de données spacy sont utilisés du fait de leur efficacité relative à la détection des entités\n",
        "    # 'fr_core_news_sm' fonctionne mieux pour la détection des entités\n",
        "  tal = spacy.load('fr_core_news_sm')\n"
      ],
      "execution_count": null,
      "outputs": []
    },
    {
      "cell_type": "code",
      "metadata": {
        "colab": {
          "base_uri": "https://localhost:8080/"
        },
        "id": "t4_kvS30AfX1",
        "outputId": "de224822-3438-4962-9516-85a3caa01e7c"
      },
      "source": [
        "tal.add_pipe('language_detector', last=True) # Permet de détecter la langue"
      ],
      "execution_count": null,
      "outputs": [
        {
          "output_type": "execute_result",
          "data": {
            "text/plain": [
              "<spacy_langdetect.spacy_langdetect.LanguageDetector at 0x7f3420b09410>"
            ]
          },
          "metadata": {},
          "execution_count": 12
        }
      ]
    },
    {
      "cell_type": "code",
      "metadata": {
        "id": "30SxjpwZ0QH7"
      },
      "source": [
        "aGarder, aVirer = dict([]), dict([])"
      ],
      "execution_count": null,
      "outputs": []
    },
    {
      "cell_type": "code",
      "metadata": {
        "colab": {
          "base_uri": "https://localhost:8080/"
        },
        "id": "BTqmpH0HyY-b",
        "outputId": "47edfeff-0ac0-42e7-d849-1875c9962ed2"
      },
      "source": [
        "# modif au 16/11 :  rajout de la détection de langue\n",
        "for ndf in os.listdir(stockageEntree + \"/OUT/ContenusSites/\"):\n",
        "  fichierEntree = stockageEntree + \"/OUT/ContenusSites/\" + ndf\n",
        "  if not ndf.startswith('.') and \"backlinks\" not in ndf:\n",
        "    with open (fichierEntree, 'rb') as  fictemp:\n",
        "      soupe = pickle.load(fictemp)\n",
        "    ndf = ndf.replace('.pkl', '')\n",
        "    if ndf not in aVirer.keys():\n",
        "      aVirer[ndf] = []\n",
        "    if ndf not in aGarder.keys():\n",
        "      aGarder[ndf] = []\n",
        "    for url in soupe.keys():\n",
        "      tousLesContenus = soupe [url] \n",
        "      doc = tal(str(tousLesContenus))\n",
        "      if not doc._.language[\"language\"] == \"fr\": # exclusion si fr non détecté\n",
        "        print(\"pas fr : \", url, soupe [url] )\n",
        "        aVirer[ndf].append(url)\n",
        "      else:\n",
        "        aGarder[ndf].append(url)"
      ],
      "execution_count": null,
      "outputs": [
        {
          "output_type": "stream",
          "name": "stdout",
          "text": [
            "pas fr :  http://heliotel.net 403 Forbidden \n",
            "pas fr :  http://pradet-vacances.com Not Acceptable! An appropriate representation of the requested resource could not be found on this server. This error was generated by Mod_Security.\n",
            "pas fr :  http://campingdupindegalle.com 403 Forbidden \n",
            "pas fr :  http://hotel-escapade.com redirection  \n",
            "pas fr :  http://labastide-decharlotte.fr 403 Forbidden \n",
            "pas fr :  http://mercure.com Book a hotel online with Accor  \n",
            "pas fr :  http://ibis.com Book a hotel online with Accor  \n",
            "pas fr :  http://accorhotels.com ALL - Accor Live Limitless Home - Accor Rooms & Guests  Room 1  Travellers Promo code Hotels Apartments & Villas Restaurants & Bars Meetings & Events Experiences Day use Our current offers Relax, unwind—or get out there and see it all—at unforgettable destinations throughout North & Central America. Book Now  Relax, unwind—or get out there and see it all—at unforgettable destinations throughout North & Central America. Book Now        Earn points and unlock exclusive benefits Stay, work and earn points every day. Unlock custom benefits and unforgettable experiences with our ALL – Accor Live Limitless loyalty programme.  ALL takes you places If you find a lower price elsewhere, we'll match it and give you 25% off the competitor's rate! One programme, savings every day, new experiences Subscribe to our newsletter and be the first to hear about exclusive offers and pre-sales. Sign up to our newsletter to receive our latest offers 844 382 2267 © Accor2019 沪ICP备10203162号-7 *Prices start from, based on a one night stay in a standard double room for two guests. Supplementary services, breakfast and tourist/city tax are not included. Price observed on all.accor.com within the past 24 hours, for a one night stay within the next eight days, starting tomorrow. Price subject to the hotel conditions, period and availability. Depending on the country, these prices may not include taxes, may include VAT only or may include all taxes (VAT and tourist/city tax). When prices do not include all taxes, the relevant taxes (VAT and tourist/city tax) will be stated in the forthcoming stages of the reservation process. The price is only guaranteed at the time of reservation. ** Note 2 Available 24/7. Calls to this number will cost 13 pence per minute plus your providers access charge (only for Accor hotels). Back to the top\n",
            "pas fr :  http://labrisemarine.net Naturisme - Centre Naturiste Var - Naturisme Cote d'azur - Hotel Restaurant la Brise Marine Animation flash\n",
            "pas fr :  http://logishotels.com Access denied | logishotels.com used Cloudflare to restrict access This website is using a security service to protect itself from online attacks.  Cloudflare Ray ID: 6b0af97909fd74c7 • Your IP: 34.86.57.103 • Performance & security by Cloudflare \n",
            "pas fr :  http://hotel-bb.com Cheap hotels in Europe and in the world | B&B HOTELS Discover our brand new hotel and book your next stay in Budapest We support the reconstruction of La Palma. This Friday 26/11/2021 we will donate 5% of the bookings made on  our website and app for the reconstruction of the island. Join us in taking responsibility! Travel for €70 for 2 nights this autumn Plan your autumn trips with B&B hotels! Book now from 19, 29 and 39€! Enjoy its excellent location In the heart of the city centre and close to the beach Please select period for 20 days maxStart date cannot be set in the past. Book your 2-night weekend for €70 at B&B HOTELS! At B&B Hotels we are working to adapt to the current situation and offer you maximum security. We are taking all the necessary measures so that anyone can travel with peace of mind and enjoy a safe stay in our hotels. Welcome to our warm, attractive hotels, accessible to all ... even your pets! This is the #onlyforeveryone philosophy! Become a B&B HOTELS CLUB member and enjoy many advantages for only 39 €! Book a single room & sleep in a double room for two. Only for a short time in selected hotels. Book a single room & sleep in a double room for two. Only for a short time in selected hotels. The city of Braga has been chosen as the best European destination to visit in 2021, through the \"European Best Destinations\" initiative that promotes culture and tourism in Europe. Are you curious to visit this destination? Book in our B&B Hotel Braga Lamaçães. We are waiting for you !  The city of Braga has been chosen as the best European destination to visit in 2021, through the \"European Best Destinations\" initiative that promotes culture and tourism in Europe. Are you curious to visit this destination? Book in our B&B Hotel Braga Lamaçães. We are waiting for you !  As a novelty, we have incorporated body dryers in B&B Hotel Madrid Puerta del Sol. Every time you use this body dryer, avoiding the use of a towel to dry your body, 70 litres of water are saved and no longer polluted. In addition, the use of detergents is avoided and 0.55 kg less CO2 is emitted. Would you like to try it? We look forward to seeing you! As a novelty, we have incorporated body dryers in B&B Hotel Madrid Puerta del Sol. Every time you use this body dryer, avoiding the use of a towel to dry your body, 70 litres of water are saved and no longer polluted. In addition, the use of detergents is avoided and 0.55 kg less CO2 is emitted. Would you like to try it? We look forward to seeing you! We think of every customer. For this reason, we have reached an agreement with the Associació Celíacs de Catalunya, which certifies that we offer gluten-free products in our breakfast buffet. We think of every customer. For this reason, we have reached an agreement with the Associació Celíacs de Catalunya, which certifies that we offer gluten-free products in our breakfast buffet. Why pay more when you can pay only for the hours you stay? At B&B Hotels Spain we want to take care of each and every one of our customers. Many of you are interested in booking our rooms by hours. That's why we are offering micro-stays of up to 6 hours. If you want more information, contact us calling +34 900 533 147. What a great deal, isn't it? Why pay more when you can pay only for the hours you stay? At B&B Hotels Spain we want to take care of each and every one of our customers. Many of you are interested in booking our rooms by hours. That's why we are offering micro-stays of up to 6 hours. If you want more information, contact us calling +34 900 533 147. What a great deal, isn't it? Many of you told us how comfortable our mattresses are and now you can buy them!  We care about your health and we know how important it is for you to sleep well. Ask at reception how you can buy your mattress and our supplier will deliver it to your home. Enjoy the best rest! Many of you told us how comfortable our mattresses are and now you can buy them!  We care about your health and we know how important it is for you to sleep well. Ask at reception how you can buy your mattress and our supplier will deliver it to your home. Enjoy the best rest! We are proud to continue with our expansion project and to keep adding new openings. We currently have more than 35 hotels in Spain, and all of them offer excellent value for money, which is why millions of guests choose us as their preferred option. We are proud to continue with our expansion project and to keep adding new openings. We currently have more than 35 hotels in Spain, and all of them offer excellent value for money, which is why millions of guests choose us as their preferred option. Find out more about our 4 new hotels in Milan! Strategically located, you'll have no trouble choosing the one that's right for you. Find out more about our 4 new hotels in Milan! Strategically located, you'll have no trouble choosing the one that's right for you. We are proud to continue with our expansion project and to keep adding new openings. We currently have more than 5 hotels in Portugal, and all of them offer excellent value for money, which is why millions of guests choose us as their preferred option. We are proud to continue with our expansion project and to keep adding new openings. We currently have more than 5 hotels in Portugal, and all of them offer excellent value for money, which is why millions of guests choose us as their preferred option. You are looking for a hotel in France, discover now our selection of new destinations with comfortable hotels at very low prices and everywhere in France! You are looking for a hotel in France, discover now our selection of new destinations with comfortable hotels at very low prices and everywhere in France!  © All rights reserved B&B Hotels 2021\n",
            "pas fr :  http://oustaou.com oustaou.com View the WHOIS data for oustaou.com to see the domain's public registration information. oustaou.com is registered Want your own domain name?Learn more about the domain name extensions we manageFind a domain name similar to oustaou.com\n",
            "pas fr :  http://hotelmed.info 403 Forbidden You don't have permission to access this resource.\n",
            "pas fr :  http://booking.com  Booking.com | Official site | The best hotels & accommodations   Get the advice you need. Check the latest COVID-19 restrictions before you travel.  Learn more    Get 30% off stays worldwide – where will you make memories?   It's not too late to get away, with deals on stays all through 2021  The best cities to visit to get your caffeine fix. Sin City isn't just casinos and neon, it's full of surprising, alternative attractions. Take your vinyasa on vacation at these dreamy yoga stays around the world. Revel in the eclectic energy of this centuries-old Caribbean capital. We found seven of the best locations to go up, up, and away.  94 properties   62 properties   57 properties   78 properties   52 properties  Split Starting from $51 Rome Starting from $230 Budapest Starting from $153 Nice Starting from $226 Prague Starting from $148 819.672 hotels 721,732 apartments 17,192 resorts 372,825 villas 30,871 cabins 129,415 cottages 8,826 Glamping Sites 29,899 serviced apartments 372,825 vacation homes 101,067 guest houses 16,710 hostels 13,147 motels 182,692 B&Bs 2,210 ryokans 1,134 riads 4,981 resort villages 130,806 homestays 6,212 campgrounds 11,405 country houses 9,168 farm stays 1,182 boats 2,947 luxury tents 644,963 Self-catering Properties 355 tiny houses  Prices drop the second you sign up!    Error: Please enter a valid email address.    Error: Oops! An error has occurred.    Thanks! We've sent you an email so you can confirm your subscription    Error: Please enter a valid email address.    Error: Oops! An error has occurred.    Thanks! We've sent you an email so you can confirm your subscription    List your property   Booking.com is part of Booking Holdings Inc., the world leader in online travel and related services.  We have more than 70 million property reviews, all from real, verified guests. 1  The only way to leave a review is to first make a booking. That's how we know our reviews come from real guests who have stayed at the property.  2  When guests stay at the property, they check out how quiet the room is, how friendly the staff is, and more.  3  After their trip, guests tell us about their stay. We check for naughty words and verify the authenticity of all guest reviews before adding them to our site. If you booked through us and want to leave a review, please sign in first. Check-in date Check-out date\n",
            "pas fr :  http://ledongiovanni.com Le Don Giovannni | Holiday Rental Carqueiranne | Provence Home Details & Pictures Activities Access Reviews Rates & Availabilities Contact Plus... The Don Giovanni is on official Tourism websites www.visitvar.com, www.hyeres-tourisme.com, www.carqueiranne.fr p35 and www.ancv.com   The classification in Meublé de Tourisme aims to give you a level of comfort.  The Don Giovanni  was awarded 3 stars in 2016. You are assured of a comfortable and well equipped accommodation. ​ Check out reviews of The Don Giovanni from the most famous booking platform : www.airbnb.com Fully furnished and equipped, leave with peace of mind. Bed sheets, bath towels and kitchen towels are provided free of charge. ​ Ideally located close to the port, beaches and shops, park your vehicle in its privative and secure location for all your stay, and enjoy your holidays on foot. ​ Located in the Gulf of Giens between Toulon and Hyères, Carqueiranne is a small Provençal port of the Var coast. There are many reasons to stay in this village : beaches, relaxation, water sports, local gastronomy... Since 2019, le Don Giovanni is furnished with green & local electricity. © 2016 - 2021 par Le Don Giovanni All rights reserved Booking by phone :​ Find us\n",
            "pas fr :  http://hotel-brise-marine.com 403 Forbidden \n",
            "pas fr :  http://gite-rural-hyeres.com 403 Forbidden You don't have permission to access this resource. Additionally, a 403 Forbidden error was encountered while trying to use an ErrorDocument to handle the request.\n",
            "pas fr :  http://residenceatlantis.fr  \n",
            "pas fr :  http://villamariejeanne.fr  \n",
            "pas fr :  http://naturiste.com  \n",
            "pas fr :  http://campingcapricorne.com  \n",
            "pas fr :  http://iucn.org 403 Forbidden Forbidden XID: 272293564 Varnish cache server\n",
            "pas fr :  http://govirtuo.com  Loading...\n",
            "pas fr :  http://rosalies-hyeres.com 403 Forbidden \n",
            "pas fr :  http://carqueiranne.fr 403 Forbidden \n",
            "pas fr :  http://lemediterranee-hyeres.fr This domain is for sale This domain name is for sale If you need this domain name, please contact [email protected]\n",
            "pas fr :  http://restaurant-la-jeannette.com 404 Not Found \n",
            "pas fr :  http://ansedeportcros.com L'Anse de Port Cros          \n",
            "pas fr :  http://planb-hyeres.com Restaurant | Plan B | Hyères France UNE CUISINE DE PARTAGE ❤️ À LA MAISON - OU AU BUREAU À RETOUVER EN CLICK&COLLECT OU SUR UBEREATS. UNE CUISINE DE PARTAGE ❤️              CAR ICI TOUT EST FAIT AVEC LE ❤️ RETROUVEZ NOTRE CARTE ! NON CE N'EST PAS LA CARTE DES 🧀 RETROUVEZ NOTRE INSTAGRAM ! 83400 Hyères (France) ​ T (+33) 04 94 61 15 70 planb.artcafe@gmail.com ​ Plan B © 2020\n",
            "pas fr :  http://grand-tour-ecrins.fr  \n",
            "pas fr :  http://clubkayaklepradet.fr 403 Forbidden \n",
            " \t\t\t\t\t\t\t\t\t\t\t\t\t\t\t\t20h 15min2D - VF\t\t\t\t\t\t\t\t\t\t\t\t\t\t\t Tout public - 01h 40min Tout public - 01h 42min Tout public - 01h 48min Tout public - 01h 32min Tout public - 02h 37min Tout public - 02h 08min Tout public - 01h 36min Tout public - 00h 00min Tout public - 00h 43min Tout public - 01h 44min Tout public - 01h 30min Tout public - 02h 00min Tout public - 01h 37min Tout public - 01h 39min Tout public - 01h 30min Tout public - 00h 00min Tout public - 01h 30min Tout public - 00h 00min Tout public - 01h 40min Tout public - 00h 00min Tout public - 01h 42min Tout public - 02h 44min Tout public - 02h 18min Tout public - 00h 00min Tout public - 02h 00min Tout public - 01h 37min Tout public - 01h 18min Tout public - 02h 36min Tout public - 00h 00min Tout public - 01h 24min Tout public - 01h 39min Tout public - 01h 52min Tout public - 02h 30min Tout public - 01h 30min Tout public - 00h 00min Tout public - 00h 00min Tout public - 01h 27min Tout public - 00h 00min Tout public - 00h 00min Cinémas Olbia / Cinémas Hyèrois                 4, Rue du Soldat Bellon - (Centre-ville)                 83400 HYERES LES PALMIERS www.cinemasolbia.com Copyright © 2021 cinemasolbia.com / Tous droits réservés ®  Mentions légales - Politique de confidentialité\n",
            "pas fr :  http://funboardcenter.com Funboard center \n",
            "pas fr :  http://bowlingprovence.com bowlingprovence Menu principal :\n"
          ]
        }
      ]
    },
    {
      "cell_type": "markdown",
      "metadata": {
        "id": "5RLIASmgz4YZ"
      },
      "source": [
        "# Supression des extrêmes\n"
      ]
    },
    {
      "cell_type": "code",
      "metadata": {
        "id": "F3fR21pFCR0h"
      },
      "source": [
        "aGarderTemp, aVirerTemp = aGarder, aVirer"
      ],
      "execution_count": null,
      "outputs": []
    },
    {
      "cell_type": "markdown",
      "metadata": {
        "id": "brNy5NNd_aoV"
      },
      "source": [
        "\n",
        "\n",
        "---\n",
        "\n",
        "\n",
        "Ne pas exécuter la ligne ci-dessous. Sauvegarde temporaire pour ne pas avoir à rexécuter la précédente lors des tests."
      ]
    },
    {
      "cell_type": "code",
      "metadata": {
        "id": "yb5VpfRdCfBN"
      },
      "source": [
        "# aGarder, aVirer = aGarderTemp, aVirerTemp"
      ],
      "execution_count": null,
      "outputs": []
    },
    {
      "cell_type": "markdown",
      "metadata": {
        "id": "Yn3IMvUp_lWL"
      },
      "source": [
        "\n",
        "\n",
        "---\n",
        "\n"
      ]
    },
    {
      "cell_type": "code",
      "metadata": {
        "id": "SDhSvXqGw2F-"
      },
      "source": [
        "stats = dict()\n",
        "for ndf in os.listdir(stockageEntree + \"/OUT/ContenusSites/\"):\n",
        "  if not ndf.startswith('.')  and \"backlinks\" not in ndf:\n",
        "    fichierEntree = stockageEntree + '/OUT/ContenusSites/' + ndf\n",
        "    with open (fichierEntree, 'rb') as  fictemp: #pour ouvrir les contenus \n",
        "      soup=pickle.load(fictemp)\n",
        "    ndf = ndf.replace('.pkl', '')\n",
        "    data  = [len(soup[url]) for url in soup.keys() if url not in aVirer[ndf]]\n",
        "    donnees = pd.DataFrame.from_dict(data)\n",
        "    stats [ndf.replace('.pkl', '')] = donnees.describe()\n",
        "\n",
        " # stats contient la description statistique des données fondée sur la taille\n",
        " # de celle-ci. Cette variable servira a exclure les url dont la variation\n",
        " # à la moyenne est trop importante : trop ou pas assez sont considérés comme\n",
        " # des singularités. Cela peut provenir de la forme choisie pour la page (grande\n",
        " # page qui contient \"tout\" avec un ascenceur interminable ou par ex. une page composée\n",
        " # par des appels url en js que le collecteur ne reconstruit pas) "
      ],
      "execution_count": null,
      "outputs": []
    },
    {
      "cell_type": "code",
      "metadata": {
        "id": "V6eI2HVVEwyP",
        "colab": {
          "base_uri": "https://localhost:8080/"
        },
        "outputId": "7bd06e49-e10a-466c-8c32-0846897e2b4e"
      },
      "source": [
        "stats"
      ],
      "execution_count": null,
      "outputs": [
        {
          "output_type": "execute_result",
          "data": {
            "text/plain": [
              "{'Gouv':                  0\n",
              " count     6.000000\n",
              " mean   1214.666667\n",
              " std     611.679219\n",
              " min     418.000000\n",
              " 25%     954.000000\n",
              " 50%    1073.000000\n",
              " 75%    1474.000000\n",
              " max    2202.000000, 'Hebergement':                   0\n",
              " count    104.000000\n",
              " mean    2289.163462\n",
              " std     1880.202727\n",
              " min       17.000000\n",
              " 25%      881.500000\n",
              " 50%     1793.500000\n",
              " 75%     3109.000000\n",
              " max    10234.000000, 'Services':                   0\n",
              " count    107.000000\n",
              " mean    2263.747664\n",
              " std     2595.852094\n",
              " min       19.000000\n",
              " 25%      762.000000\n",
              " 50%     1568.000000\n",
              " 75%     2671.000000\n",
              " max    17486.000000, 'locations':                  0\n",
              " count    32.000000\n",
              " mean   2040.593750\n",
              " std    1301.716134\n",
              " min      76.000000\n",
              " 25%    1130.750000\n",
              " 50%    1994.000000\n",
              " 75%    2699.500000\n",
              " max    5396.000000, 'mairies':                  0\n",
              " count     7.000000\n",
              " mean    753.857143\n",
              " std     563.578574\n",
              " min     161.000000\n",
              " 25%     271.500000\n",
              " 50%     667.000000\n",
              " 75%    1144.500000\n",
              " max    1617.000000, 'oTourism':                  0\n",
              " count    24.000000\n",
              " mean   2057.708333\n",
              " std    1584.886513\n",
              " min     160.000000\n",
              " 25%     792.750000\n",
              " 50%    1493.000000\n",
              " 75%    3175.750000\n",
              " max    5005.000000, 'organisations':                  0\n",
              " count    20.000000\n",
              " mean   1662.850000\n",
              " std    1789.172442\n",
              " min      69.000000\n",
              " 25%     552.500000\n",
              " 50%    1269.500000\n",
              " 75%    1917.750000\n",
              " max    6711.000000, 'parcs':                  0\n",
              " count    10.000000\n",
              " mean   1443.900000\n",
              " std     894.732915\n",
              " min     105.000000\n",
              " 25%     881.250000\n",
              " 50%    1065.000000\n",
              " 75%    2201.000000\n",
              " max    2773.000000, 'restauration':                  0\n",
              " count    35.000000\n",
              " mean   1245.514286\n",
              " std    1112.819296\n",
              " min      14.000000\n",
              " 25%     575.000000\n",
              " 50%     862.000000\n",
              " 75%    1889.500000\n",
              " max    5436.000000}"
            ]
          },
          "metadata": {},
          "execution_count": 17
        }
      ]
    },
    {
      "cell_type": "code",
      "metadata": {
        "id": "9DJYwEIw3lnH",
        "colab": {
          "base_uri": "https://localhost:8080/"
        },
        "outputId": "b3e2ba6a-a75d-4542-dd4d-ef6c2b41952e"
      },
      "source": [
        "# suppression des extrêmes\n",
        "seuil = 1.3 \n",
        "# le code qui suit sert à exclure les extrêmes (taille de collecte) hors zone \n",
        "# entre la valeur moyenne sur la collecte +/- sa valeur valeur multipliée par le seuil\n",
        "# il ne faut pas réitérer la boucle plusieurs fois au risque de voir exclure tout le monde\n",
        "\n",
        "# Si le seuil est modifié il faut ré-exécuter la cellule d'initialisation des statistiques\n",
        "\n",
        "for ndf in os.listdir(stockageEntree + \"/OUT/ContenusSites/\"):\n",
        "  if not ndf.startswith('.') and \"backlinks\" not in ndf:\n",
        "    \n",
        "    fichierEntree = stockageEntree +  '/OUT/ContenusSites/' +ndf\n",
        "    with open (fichierEntree, 'rb') as  fictemp: #pour ouvrir les contenus \n",
        "      soup=pickle.load(fictemp)\n",
        "    ndf = ndf.replace('.pkl', '')\n",
        "    if ndf not in aGarder.keys():\n",
        "      aGarder[ndf] = []\n",
        "    if ndf not in aVirer.keys():\n",
        "      aVirer[ndf] = []\n",
        "    for url in soup.keys():\n",
        "      # autour de la moyenne +/- sa valeur divisée par le seuil\n",
        "      if (len(soup[url]) > stats[ndf][0]['mean'] - stats[ndf][0]['mean']//seuil) and (len(soup[url]) < stats[ndf][0]['mean'] + stats[ndf][0]['mean']//seuil):\n",
        "          # print( len(soup [url]), stats [ndf] [0]['mean']/seuil)\n",
        "          if url not in aGarder[ndf]:\n",
        "            aGarder[ndf].append(url)\n",
        "            if url in aVirer [ndf]:\n",
        "              aVirer[ndf].remove(url)\n",
        "          else:\n",
        "            pass\n",
        "      else:\n",
        "        aVirer[ndf].append(url)\n",
        "        if url in aGarder[ndf]:\n",
        "          aGarder[ndf]. remove (url)\n",
        "    print (ndf, \"  \", stats[ndf][0]['count'], \" exclus \", len(aVirer[ndf]))\n",
        "\n",
        "    data  = [len(soup[url]) for url in aGarder[ndf] if url not in aVirer[ndf]]\n",
        "    # mise à jour des stats\n",
        "    \n",
        "    donnees = pd.DataFrame.from_dict(data)\n",
        "    stats [ndf.replace('.pkl', '')] = donnees.describe()\n"
      ],
      "execution_count": null,
      "outputs": [
        {
          "output_type": "stream",
          "name": "stdout",
          "text": [
            "Hebergement    104.0  exclus  65\n",
            "organisations    20.0  exclus  8\n",
            "oTourism    24.0  exclus  10\n",
            "Gouv    6.0  exclus  1\n",
            "locations    32.0  exclus  11\n",
            "mairies    7.0  exclus  4\n",
            "restauration    35.0  exclus  17\n",
            "parcs    10.0  exclus  2\n",
            "Services    107.0  exclus  43\n"
          ]
        }
      ]
    },
    {
      "cell_type": "code",
      "metadata": {
        "id": "tZ31Zs3bEBiN",
        "colab": {
          "base_uri": "https://localhost:8080/"
        },
        "outputId": "14140b1b-dda9-462e-e604-73e1dcc96fb7"
      },
      "source": [
        "print (aVirer[\"parcs\"])"
      ],
      "execution_count": null,
      "outputs": [
        {
          "output_type": "stream",
          "name": "stdout",
          "text": [
            "['http://www.ecrins-parcnational.fr/', 'http://www.forets-parcnational.fr/fr']\n"
          ]
        }
      ]
    },
    {
      "cell_type": "code",
      "metadata": {
        "id": "AileYz0TDCFW",
        "colab": {
          "base_uri": "https://localhost:8080/"
        },
        "outputId": "012ecb1d-1f64-4602-8339-5408e62647dc"
      },
      "source": [
        "stats"
      ],
      "execution_count": null,
      "outputs": [
        {
          "output_type": "execute_result",
          "data": {
            "text/plain": [
              "{'Gouv':                  0\n",
              " count     5.000000\n",
              " mean   1017.200000\n",
              " std     418.618203\n",
              " min     418.000000\n",
              " 25%     954.000000\n",
              " 50%     954.000000\n",
              " 75%    1192.000000\n",
              " max    1568.000000, 'Hebergement':                  0\n",
              " count    78.000000\n",
              " mean   1922.423077\n",
              " std     943.881700\n",
              " min     573.000000\n",
              " 25%    1220.750000\n",
              " 50%    1785.500000\n",
              " 75%    2559.500000\n",
              " max    3992.000000, 'Services':                  0\n",
              " count    73.000000\n",
              " mean   1743.643836\n",
              " std     846.240877\n",
              " min     533.000000\n",
              " 25%    1013.000000\n",
              " 50%    1599.000000\n",
              " 75%    2281.000000\n",
              " max    3934.000000, 'locations':                 0\n",
              " count    25.00000\n",
              " mean   1994.68000\n",
              " std     797.59115\n",
              " min     731.00000\n",
              " 25%    1274.00000\n",
              " 50%    2006.00000\n",
              " 75%    2597.00000\n",
              " max    3336.00000, 'mairies':                  0\n",
              " count     5.000000\n",
              " mean    699.800000\n",
              " std     445.706967\n",
              " min     190.000000\n",
              " 25%     353.000000\n",
              " 50%     667.000000\n",
              " 75%    1050.000000\n",
              " max    1239.000000, 'oTourism':                  0\n",
              " count    14.000000\n",
              " mean   1548.714286\n",
              " std     784.326309\n",
              " min     601.000000\n",
              " 25%    1036.750000\n",
              " 50%    1290.500000\n",
              " 75%    1961.250000\n",
              " max    3011.000000, 'organisations':                  0\n",
              " count    14.000000\n",
              " mean   1406.857143\n",
              " std     670.106175\n",
              " min     413.000000\n",
              " 25%     956.500000\n",
              " 50%    1346.500000\n",
              " 75%    1776.500000\n",
              " max    2804.000000, 'parcs':                  0\n",
              " count     8.000000\n",
              " mean   1445.125000\n",
              " std     721.679675\n",
              " min     701.000000\n",
              " 25%     955.750000\n",
              " 50%    1065.000000\n",
              " 75%    2201.000000\n",
              " max    2491.000000, 'restauration':                  0\n",
              " count    25.000000\n",
              " mean   1183.000000\n",
              " std     586.021402\n",
              " min     376.000000\n",
              " 25%     694.000000\n",
              " 50%    1187.000000\n",
              " 75%    1874.000000\n",
              " max    2188.000000}"
            ]
          },
          "metadata": {},
          "execution_count": 20
        }
      ]
    },
    {
      "cell_type": "markdown",
      "metadata": {
        "id": "FiYnC_1Gun0Q"
      },
      "source": [
        "\n",
        "\n",
        "---\n",
        "\n"
      ]
    },
    {
      "cell_type": "markdown",
      "metadata": {
        "id": "Mmgfxx2S_26N"
      },
      "source": [
        "# Traitement des fichiers produits par le scrapper\n",
        "> ndf est le fichier produit par le scapper. On le charge le spacytraite pour visualiser"
      ]
    },
    {
      "cell_type": "code",
      "metadata": {
        "id": "aso9iJ6t7nOy"
      },
      "source": [
        "tempVerb = dict() # fonction du ndf\n",
        "tempNoun = dict()\n",
        "tempAdj = dict()\n",
        "tempLoc = dict()\n",
        "tempMisc = dict()\n",
        "tempPer = dict()\n",
        "tempOrg = dict()\n",
        "dicoEtiquettage = dict()\n",
        "aEviter = dict()\n",
        "verbes = dict() #listes à remplir avec verbes/adj/noms/entités trouvés \n",
        "adjectifs  = dict() \n",
        "noms = dict()\n",
        "\n",
        "adverbes = dict()\n",
        "tempAdv = dict()"
      ],
      "execution_count": null,
      "outputs": []
    },
    {
      "cell_type": "code",
      "metadata": {
        "id": "BrZCtm6Hd9KD"
      },
      "source": [
        "  tal = spacy.load('fr_core_news_sm')\n",
        "    # 'fr_dep_news_trf' fonctionne mieux pour le reste\n",
        "  tal1 = spacy.load('fr_dep_news_trf', disable = ['tagger', 'parser', 'textcat'])"
      ],
      "execution_count": null,
      "outputs": []
    },
    {
      "cell_type": "code",
      "metadata": {
        "id": "qdwZEw7-8roi",
        "colab": {
          "base_uri": "https://localhost:8080/"
        },
        "outputId": "ff96a380-38f5-43fb-d5c8-6251ae037b00"
      },
      "source": [
        "for ndf in os.listdir(stockageEntree + \"/OUT/ContenusSites/\"):\n",
        "  fichierEntree = stockageEntree + '/OUT/ContenusSites/' + ndf\n",
        "  if not ndf.startswith('.')  and \"backlinks\" not in ndf:\n",
        "    # chargement des données collectées par le scrapeur\n",
        "    with open (fichierEntree, 'rb') as  fictemp: #pour ouvrir les contenus \n",
        "      soupe = pickle.load(fictemp)\n",
        "    ndf = ndf.replace('.pkl', '')\n",
        "    \n",
        "    # nettoyage\n",
        "    tousLesContenus = \"\"\"\"\"\" \n",
        "    for url in aGarder[ndf]:\n",
        "      tousLesContenus += soupe[url] + \"\\n\" \n",
        "    print(ndf, len(tousLesContenus))"
      ],
      "execution_count": null,
      "outputs": [
        {
          "output_type": "stream",
          "name": "stdout",
          "text": [
            "Hebergement 150027\n",
            "organisations 19710\n",
            "oTourism 21696\n",
            "Gouv 5091\n",
            "locations 49892\n",
            "mairies 3504\n",
            "restauration 29600\n",
            "parcs 11569\n",
            "Services 127359\n"
          ]
        }
      ]
    },
    {
      "cell_type": "code",
      "metadata": {
        "id": "WZf_otliXd4K"
      },
      "source": [
        "\n",
        "for ndf in os.listdir(stockageEntree + \"/OUT/ContenusSites/\"):\n",
        "  fichierEntree = stockageEntree + '/OUT/ContenusSites/' + ndf\n",
        "  if not ndf.startswith('.')  and \"backlinks\" not in ndf:\n",
        "    # chargement des données collectées par le scrapeur\n",
        "    with open (fichierEntree, 'rb') as  fictemp: #pour ouvrir les contenus \n",
        "      soupe=pickle.load(fictemp)\n",
        "    ndf = ndf.replace('.pkl', '')\n",
        "    \n",
        "    # nettoyage\n",
        "    tousLesContenus = \"\"\"\"\"\" # une longue chaine qui contiendra tous les cocd lntenus de la ndf\n",
        "    for url in aGarder[ndf]:\n",
        "      tousLesContenus += soupe[url] + \"\\n\" \n",
        "    try:\n",
        "      doc = tal(str(tousLesContenus))\n",
        "    except:\n",
        "      print(\"planté\", ndf)\n",
        "      print(len(tousLesContenus))\n",
        "      \n",
        "    # Si l'environnement n'a pas été redémarré, le code plante ici\n",
        "    dicoEtiquettage[ndf] = dict()\n",
        "\n",
        "    entites = []\n",
        "    for entity in doc.ents:\n",
        "      if entity.label_ not in dicoEtiquettage[ndf].keys():\n",
        "        dicoEtiquettage[ndf][entity.label_] = []\n",
        "        dicoEtiquettage[ndf][entity.label_].append(entity.text)\n",
        "        entites.append(entity.label_)\n",
        "      else:\n",
        "        dicoEtiquettage[ndf][entity.label_].append(entity.text)\n",
        "      #entites.append(entity.text)\n",
        "      #dicoEtiquettage [ndf] [entity.label_] = entites #dico: [étiquettage de entité donné par spacy] = la liste des entités\n",
        "    if ndf not in aEviter.keys():\n",
        "      aEviter[ndf] = []\n",
        "    if 'LOC' in dicoEtiquettage[ndf].keys():\n",
        "        aEviter[ndf] += dicoEtiquettage[ndf]['LOC']\n",
        "    if 'MISC' in dicoEtiquettage [ndf].keys():\n",
        "        aEviter[ndf] += dicoEtiquettage[ndf]['MISC']\n",
        "    if 'PER' in dicoEtiquettage [ndf].keys():\n",
        "        aEviter[ndf] += dicoEtiquettage [ndf]['PER']\n",
        "    if 'ORG' in dicoEtiquettage [ndf].keys():\n",
        "        aEviter[ndf] += dicoEtiquettage[ndf]['ORG']\n",
        "      # utilisation de l'autre modèle\n",
        "    doc = tal1(str(tousLesContenus).lower())\n",
        "\n",
        "    if ndf not in verbes.keys():\n",
        "        verbes[ndf] = []\n",
        "    if ndf not in adjectifs.keys():\n",
        "        adjectifs[ndf] = []\n",
        "    if ndf not in noms.keys():\n",
        "        noms[ndf] = []\n",
        "    \n",
        "    if ndf not in adverbes.keys(): #ADVERBES\n",
        "        adverbes[ndf] = []\n",
        "    for truc in doc: \n",
        "        if truc.text not in aEviter[ndf] and truc.text.lower() not in aEviter[ndf]: \n",
        "          if len(truc.text)>2:\n",
        "            if truc.pos_ == \"VERB\":\n",
        "              verbes[ndf].append(truc.lemma_) #ajoute à la liste (.lemma_ fait la lemmatisation)\n",
        "              dicoEtiquettage[ndf][truc.pos_] = verbes[ndf] #ajoute dans le dico: [\"VERB\"] = la liste des verbes\n",
        "            if truc.pos_ == \"ADJ\":\n",
        "              adjectifs[ndf].append(truc.lemma_) \n",
        "              dicoEtiquettage [ndf][truc.pos_] = adjectifs[ndf] #dico:[\"ADJ\"] = la liste des adjectifs\n",
        "            if truc.pos_ == \"NOUN\":\n",
        "              noms[ndf].append(truc.lemma_)\n",
        "              dicoEtiquettage[ndf][truc.pos_] = noms[ndf] #dico: [\"NOUN\"] = la liste des noms  \n",
        "            \n",
        "            if truc.pos_ == \"ADV\": \n",
        "              adverbes[ndf].append(truc.lemma_)\n",
        "              dicoEtiquettage[ndf][truc.pos_] = adverbes[ndf] #dico: [\"ADV\"] = la liste des adverbes\n",
        "\n",
        "    for cle in dicoEtiquettage[ndf]: \n",
        "        if cle == \"VERB\":\n",
        "          tempVerb[ndf] = Counter(dicoEtiquettage[ndf][cle])\n",
        "        if cle == \"NOUN\":\n",
        "          tempNoun[ndf] = Counter(dicoEtiquettage[ndf][cle])\n",
        "        if cle == \"ADJ\":\n",
        "          tempAdj[ndf] = Counter(dicoEtiquettage[ndf][cle])\n",
        "        if cle == \"LOC\":\n",
        "          tempLoc[ndf] = Counter(dicoEtiquettage[ndf][cle])\n",
        "        if cle == \"MISC\":\n",
        "          tempMisc[ndf] = Counter(dicoEtiquettage[ndf][cle])\n",
        "        if cle == \"PER\":\n",
        "          tempPer[ndf] = Counter(dicoEtiquettage[ndf][cle])\n",
        "        if cle == \"ORG\":\n",
        "          tempOrg[ndf] = Counter(dicoEtiquettage[ndf][cle])\n",
        "        if cle == \"ADV\":\n",
        "          tempAdv[ndf] = Counter(dicoEtiquettage[ndf][cle])\n",
        "    "
      ],
      "execution_count": null,
      "outputs": []
    },
    {
      "cell_type": "code",
      "metadata": {
        "id": "kX27dun0xJTS",
        "colab": {
          "base_uri": "https://localhost:8080/"
        },
        "outputId": "fe296483-fd3f-4a90-99d9-1d5e458c1e7c"
      },
      "source": [
        "print(tempLoc[ndf])"
      ],
      "execution_count": null,
      "outputs": [
        {
          "output_type": "stream",
          "name": "stdout",
          "text": [
            "Counter({'Hyères': 45, 'France': 20, 'Giens': 17, 'Var': 13, 'Découvrez': 11, 'Porquerolles': 10, 'Toulon': 10, 'Saint-Tropez': 7, 'Oisans': 7, 'Côtes de Provence': 7, 'Samedi': 6, 'Orcières': 6, 'Venez': 5, 'Kitesurf': 5, 'Marseille': 5, 'Paris': 5, 'Venosc': 5, 'Miléade': 5, 'Accueil': 4, 'Méditerranée': 4, 'La Seyne-sur-Mer': 4, 'Parc National de Port-Cros': 3, 'HYERES': 3, 'Novembre': 3, 'Lavandou': 3, 'Frac': 3, 'Activités': 3, 'Port-Cros': 3, 'Donator': 3, 'Cavalaire': 3, 'Europe': 3, 'Seyne-sur-Mer': 3, 'Serre Chevalier': 3, 'Chaillol': 3, 'vallée du Champsaur': 3, 'Malcros': 3, 'Parc National des Ecrins': 3, 'Alpes': 3, 'Horaires': 3, 'Repas': 3, 'Carqueiranne': 3, 'rade de Toulon': 3, 'Ruche': 3, 'Besoin': 2, 'Mail': 2, 'Port Cros': 2, 'Partez': 2, 'Coupole': 2, 'Vendredi': 2, 'Conditions': 2, '•': 2, 'méditerranée': 2, 'Consultez': 2, 'Sellerie Nautique': 2, 'Galerie': 2, 'sculpteurs': 2, 'Massillon': 2, 'Fresh': 2, \"Bourg-d'Oisans\": 2, 'Bourg': 2, 'Valence': 2, 'Genève': 2, 'Lyon': 2, 'Faciles': 2, 'Parc National des Écrins': 2, '2 Alpes': 2, 'rue Breteuil13006': 2, 'placard': 2, 'WC': 2, 'un(e': 2, 'Longueur': 2, 'Côtes de Provence rouge': 2, 'A': 2, 'Tour Fondue': 2, 'sanctuaire Pelagos': 2, 'l\\x92Almanarre': 2, 'Fréjus': 2, 'Paddle': 2, 'Hôtels': 2, 'Info': 2, 'Golfe de Saint-Tropez': 2, 'call center': 2, 'la Ruche': 2, 'Partouche': 1, 'Created with Sketch': 1, 'Created with': 1, 'Appelez': 1, 'Retrouver': 1, 'le Pass': 1, 'Pass Saison 2022': 1, \"Avenue de l'Aèroport\": 1, 'Galerie Artdanh': 1, \"Rue de l'oratoire\": 1, 'place Massillon': 1, 'Hyères       Tél': 1, 'artdanh83@gmail.com \\nTLV-TVM | Navettes': 1, \"Côte D'Azur\": 1, 'parc national marin français': 1, 'Parc Aquatique Services': 1, 'Contact More !!!': 1, 'blob-jump...': 1, 'Plein Sud': 1, \"place de l'Ayguade\": 1, 'François': 1, 'Boulevard de la Marine': 1, 'Millone': 1, 'Six-Fours': 1, 'Metro': 1, 'Mardi': 1, 'Mercredi': 1, 'squash': 1, 'Cliquez ICI': 1, \"Presqu'île de\": 1, 'Almanarre': 1, 'Badine': 1, 'Mérou': 1, \"PRESQU'ÎLE DE GIENS\": 1, 'Spa Hyères': 1, 'Spa': 1, 'Hyères les Palmiers': 1, 'Rue du Soldat Bellon 83400 Hyeres Tel: 04.94.12.88.70': 1, 'Parking': 1, 'La londe': 1, 'Valette': 1, 'Amotos': 1, 'annéeA': 1, 'Rosalie & CO': 1, 'A CHACUN': 1, 'Balade': 1, 'Lea': 1, \"Avenue de l'Aéroport\": 1, 'Kiddy Parc': 1, 'Cliquez': 1, 'Var Plage de la Garonne': 1, 'Aquabulles Plongée': 1, 'Toulon Provence': 1, 'Bons': 1, 'Rapide': 1, 'Casse du Casse': 1, 'Offrez': 1, 'Vin 2021': 1, 'Nicopolis': 1, 'Rue de la Bruyère 83170': 1, 'Brignoles': 1, 'Relevé de Presse 2021': 1, 'Gérez': 1, 'Enregistrez': 1, 'Intégrez': 1, 'Parcourir': 1, 'kayak': 1, 'sylvothérapie': 1, 'qong': 1, 'Clé-en-main': 1, 'Drums': 1, 'Métropole': 1, 'département du Var': 1, 'Drac': 1, \"Sud-Provence Alpes Côte d'Azur\": 1, 'Lieux': 1, 'Châteauvallon-Liberté': 1, \"École Supérieure d'Art et\": 1, 'Onda': 1, 'Epice': 1, 'Possible': 1, 'Bière': 1, 'Rade': 1, 'week-end': 1, '\\u200b\\nAccueil': 1, 'rue Brest': 1, 'Férié': 1, 'Pass Sanitaire': 1, 'magic world': 1, 'Pass': 1, 'Facebook\\nCyana': 1, 'centre Cyana': 1, 'Hyères \"Quai des pêcheurs\" \\t': 1, 'Gabinière': 1, 'Barge': 1, 'Congres': 1, 'Ville de Grasse': 1, 'deep dive/profonde': 1, 'PlongeeO': 1, 'Gapeau': 1, 'Allier': 1, 'Grec': 1, 'Togo': 1, 'Rubis': 1, 'Port-Cros Porquerolles': 1, 'Or': 1, 'Parc National de Port Cros': 1, 'Spécialisé': 1, 'venez': 1, 'FR': 1, 'Règlement Bancaire': 1, 'FR44': 1, 'Parc National de Port-Cros Porquerolles': 1, \"Îles d'Or     Bienvenue\": 1, 'Corsaire': 1, 'Masque': 1, 'Soyons': 1, 'mer 🛳🎇🎆 Rendez': 1, 'place Clémenceau': 1, 'Parcours des Arts pour (se': 1, 'Réalisé': 1, 'Courbat': 1, 'Jeunes': 1, 'Ile de France': 1, 'Indre-et-Loire': 1, 'PONT CEDEX': 1, '\\u200b \\u200b RESTAURANT Tél': 1, 'Bimini': 1, 'PAGE  Housse': 1, 'PAGE  Vaigrage rénovation': 1, 'soleil': 1, 'coussin': 1, 'banquette': 1, 'PAGE  Vous êtes': 1, 'Touch': 1, 'Palyvestre': 1, 'Var 83': 1, 'roue': 1, 'cagnards': 1, 'côte Varoise': 1, 'Alpes du': 1, 'Demande': 1, \"l'Alpe d'Huez\": 1, 'parc des Ecrins    Bourg': 1, 'Oisans         Click and': 1, \"02/06/2022 Alpe d'Huez   Lepape Marmotte\": 1, \"03/07/2022 Alpe d'Huez   \": 1, \"Bourg-d'Oisans   \": 1, \"l'Oisans\": 1, 'Instagram': 1, 'Suivez-nous sur La haute': 1, 'Grenoble': 1, 'Amsterdam': 1, 'Bruxelles': 1, 'Barcelone': 1, 'Berlin': 1, 'Dublin': 1, 'Rome': 1, 'Station soleil': 1, 'Chaillol    Webcam                     Voir': 1, 'Plans': 1, '«\\u2009station': 1, 'Suspendue': 1, 'Vieux Chaillol': 1, 'massif des Écrins': 1, 'le soleil': 1, 'Tracées': 1, '«\\u2009Quand': 1, 'Dévoluy': 1, 'Hautes-Alpes Rendez': 1, '11/12/21': 1, 'Neige': 1, 'Risque': 1, 'Pistes': 1, 'Loisirs': 1, 'Découvrir': 1, 'Balades': 1, 'Serre-Eyraud': 1, 'Famille': 1, 'Solitude': 1, 'Park City': 1, 'Utah': 1, 'USA': 1, 'Jabiore': 1, 'Parc national des Écrins': 1, 'Alban': 1, 'Elsa': 1, 'hôtel-restaurant...  \\t\\t\\t\\t\\t\\t\\tEn savoir': 1, 'Parc national des Ecrins': 1, 'réserve naturelle...': 1, \"musée Mémoires d'Alpinismes\": 1, 'Saint Christophe': 1, 'Bérarde': 1, 'Vénéon': 1, 'St Christophe': 1, 'Offre': 1, 'Prévoyez': 1, 'Fleurs': 1, 'Technos': 1, '8 Femmes': 1, 'Provence': 1, 'Barle13120': 1, 'rue de la Création': 1, 'Bonde': 1, 'La Penne-sur-HuveauneBouches-du-RhôneVoir': 1, 'Grand Portail84570 Villes': 1, '6204,Les Gentianes06430 TENDEAlpes': 1, 'Esterel06160 JUAN-LES-PINSAlpes-MaritimesVoir': 1, 'Sanary': 1, 'Atelier': 1, 'Roquebrune': 1, 'faïence': 1, 'raku': 1, 'Terre de Provence': 1, 'Municipalité': 1, 'Roquebrune-sur-Argens': 1, 'Entrée libre': 1, 'Lieu': 1, 'Mairie de La Valette-du-Var': 1, 'Parcours des Arts ça': 1, 'Parcours des Arts': 1, 'Saint-Jacques-de-Compostelle': 1, 'Soucieuse': 1, 'Parcourez': 1, 'région PACA': 1, 'Octobre': 1, 'Avril': 1, 'Septembre': 1, 'Mentions': 1, 'Direct': 1, 'Port Cros Parking': 1, 'Navettes': 1, 'La Croisière des 2 Îles': 1, 'La «': 1, 'EmbarquementPort Miramar83250': 1, 'Toulon Parking': 1, 'EmbarquementQuai': 1, 'baie de Toulon': 1, \"Îles d'Or\": 1, 'Port Cros\\x85': 1, 'La Londe': 1, 'Les Sablettes': 1, 'parc national de Port-Cros': 1, 'Menton': 1, 'Longez': 1, \"Provence-Alpes-Côte-d'Azur\": 1, 'Bateliers': 1, 'bateliers@hotmail.fr': 1, \"Côte d'Azur\": 1, 'La Rochelle': 1, 'Arcachon': 1, 'Vin de cépage de France': 1, 'Vin de Cépage 2019': 1, 'Grasse': 1, 'fleuve Var': 1, 'de France': 1, 'Domaine Bouisse-Matteri': 1, 'Syrah': 1, 'cinsault': 1, 'carignan': 1, 'rolle': 1, 'consommez': 1, 'modération': 1, 'CHATEAU DE MAUVANNE': 1, 'Gestion': 1, 'Newsletter': 1, 'La Ciotat': 1, 'Nautic de Pa': 1, 'HexaVoile-Diapason': 1, 'Euro-voiles': 1, 'mer hyeres': 1, 'mer Porquerolles Larguez': 1, 'Capitaine': 1, 'Parc national Port-Cros/Porquerolles': 1, 'Bouvet': 1, 'Parc Marin': 1, 'Te': 1, \"îles d'Or\": 1, 'mer Demi-journée COUCHER': 1, 'cliquez-ici': 1, 'Nicolas': 1, 'Basés': 1, 'Capte': 1, 'Parc national de Port-Cros': 1, 'Port de La Capte83400 Hyères +33': 1, 'Jumelles': 1, 'cachalot': 1, 'Monaco': 1, 'Bouvet –': 1, 'baleines': 1, 'glopbicéphales...': 1, 'Ipanéa': 1, 'Abordez': 1, 'Embarquez': 1, 'whale watching': 1, 'Tripadvisor': 1, '►': 1, 'Wingfoil': 1, 'Wingsurf': 1, 'Villa': 1, 'Mexique': 1, 'Kitesurf Séjour': 1, 'Maroc': 1, 'Panne': 1, 'Kiteplus': 1, \"l'Almanarre\": 1, 'wingfoil': 1, 'Kite': 1, 'raid': 1, \"Kite'House\": 1, 'Team Building': 1, 'Matériel': 1, 'Azur France   ': 1, 'Hobie-Cat': 1, 'combi-bermuda': 1, 'textiles': 1, 'Contact\\n': 1, 'Saint-Aygulf': 1, 'Kitextrem': 1, 'L\\x92Almanarre': 1, 'Côte d\\x92Azur': 1, 'Carqueiranne\\r         ': 1, 'l\\x92almanarre': 1, 'carqueiranne': 1, 'baie de\\r         l\\x92Almanarre': 1, 'bars': 1, 'hôtels': 1, 'Saint-Maxime': 1, 'Le Lavandou': 1, 'Stand': 1, 'Robinson': 1, 'ROBINSON': 1, 'baie de Hyères': 1, 'Stages': 1, 'forfaits': 1, 'EXCURSIONS': 1, 'Afrique': 1, 'Polynésie': 1, '36ou Tél': 1, 'DÃ': 1, 'DÃ©couvrez': 1, 'Tarifs': 1, 'Assurances': 1, 'Fone': 1, 'Nour': 1, 'mÃ©tÃ©o': 1, 'variÃ©es tractÃ©es derriÃ¨re': 1, 'lÂ´Almanarre': 1, 'Bonjour': 1, 'Pourriez-vous mâ€™': 1, 'affichÃ©': 1, 'Hobie SUP': 1, 'Hobie': 1, 'Corner': 1, 'SPORTSWEAR': 1, 'Iceberg Jet !': 1, '\\ufeff': 1, 'Miléade®': 1, 'Noel': 1, 'france': 1, 'la France': 1, 'Détente': 1, 'Villages Clubs': 1, 'spa': 1, 'hammam': 1, 'Tout Compris': 1, 'GR2013': 1, '(max': 1, 'Réservez': 1, 'Photofolio': 1, 'Communauté de Communes du Golfe de Saint-Tropez': 1, '16hHôtel': 1, 'Utilitaire': 1, 'Rentacar': 1, 'Rigueur': 1, 'Rent A': 1, 'Martinique': 1, 'Guadeloupe': 1, 'Guyane': 1, 'citadines': 1, 'berlines': 1, 'Nancy': 1, 'Audi': 1, 'B': 1, 'La Seyne': 1, 'Chemin de la Capellane': 1, 'Chemin des Plantades': 1, 'Particuliers': 1, 'Foire': 1, 'Sélectionnez': 1, 'Covid': 1, 'sélectionnez': 1, 'Andorre': 1, 'Profitez': 1, 'Pyrénées': 1, 'Contactez-nous                      Conditions Votre': 1, 'Suivez-nous\\nGolf': 1, 'La Garde': 1, 'Pradet': 1, 'Crau': 1, 'Issambres-St Tropez + la baie des Canoubiers': 1, 'Grande Braderie': 1, 'Voiles de Saint-Tropez': 1, '…]\\nVisite': 1, 'rade de TOULON': 1, 'Port Cros DÉCOUVREZ': 1, 'Saint-Mandrier': 1, 'port de Toulon': 1, 'tour Royale': 1, \"Porquerolles  Les Îles d'Hyères\": 1, 'Toulon Tel': 1, 'Sanary-sur-Mer': 1, 'Croix du Sud V” vous propose': 1, '“Découverte du Vivant': 1, 'Vinification': 1, 'Dessin': 1, 'Chers': 1, 'Lundi': 1, 'Romane': 1, 'St Honorat': 1, 'Viognier': 1, 'Portez': 1, 'Côtes de Provence La Londe': 1, 'Jazz': 1, 'Répondre': 1, 'chateaulesmesclances@mesclances.com     AOC Côtes de Provence': 1, 'Ruches': 1, 'Palmiers': 1, 'VF\\t\\t\\t\\t\\t\\t\\t\\t\\t\\t\\t\\t\\t\\t\\t ': 1, 'Rue du Soldat Bellon': 1, 'Centre-ville': 1, 'PALMIERS www.cinemasolbia.com Copyright': 1})\n"
          ]
        }
      ]
    },
    {
      "cell_type": "markdown",
      "metadata": {
        "id": "UL0vp-J4-mk6"
      },
      "source": [
        "# Les partenaires"
      ]
    },
    {
      "cell_type": "markdown",
      "metadata": {
        "id": "QEqWQH1dt0Xl"
      },
      "source": [
        "> Les partenaires sont les sites cités par le site d'origine, citant eux-même le site. Les motivations de citation étant aussi variées que les motivations de partenariat nous tentons de regrouper ces partenaires selon les catégories identifiées.\n",
        "\n",
        "Les sites des partenaires ont été identifiés par le logiciel Hyphe (Médialab)\n",
        "\n",
        "Note: si l'url n'a pas été collecté dans la phase d'initialisation (scrapping) alors son champ lexical n'est pas utilisé"
      ]
    },
    {
      "cell_type": "code",
      "metadata": {
        "id": "QkX5A5ySBgEX"
      },
      "source": [
        "with open (stockageEntree + \"/Ressources/NIVEAU1-PNPC.csv\", \"r\") as partners:\n",
        "  donnee= partners.readlines()"
      ],
      "execution_count": null,
      "outputs": []
    },
    {
      "cell_type": "code",
      "metadata": {
        "id": "5_pwFuC8B0PW"
      },
      "source": [
        "partenaires = []\n",
        "for lig in donnee[1:]:\n",
        "  urls = lig.split(\";\")[2]\n",
        "  partenaires.extend(urls.split())"
      ],
      "execution_count": null,
      "outputs": []
    },
    {
      "cell_type": "code",
      "metadata": {
        "id": "BJocrXCkJGdl"
      },
      "source": [
        "partenairesPropres = []"
      ],
      "execution_count": null,
      "outputs": []
    },
    {
      "cell_type": "code",
      "metadata": {
        "id": "FL-0G5p1I9N2"
      },
      "source": [
        "for url in partenaires:\n",
        "  url = url.strip()\n",
        "  url = url.replace('\"', \"\")\n",
        "\n",
        "  urlP = parse.urlparse(url)\n",
        "  partenairesPropres.append(urlP.scheme + '://' + urlP.hostname)"
      ],
      "execution_count": null,
      "outputs": []
    },
    {
      "cell_type": "code",
      "metadata": {
        "id": "-84bk7y3Mi7Y"
      },
      "source": [
        "tempGram = dict() # fonction du ndf et de la catGram\n",
        "\n",
        "dicoEtiquettagePartners = dict()\n",
        "\n",
        "verbesPartners = dict() #listes à remplir avec verbes/adj/noms/entités trouvés \n",
        "adjectifsPartners  = dict() \n",
        "nomsPartners = dict()\n",
        "adverbesPartners = dict()"
      ],
      "execution_count": null,
      "outputs": []
    },
    {
      "cell_type": "code",
      "metadata": {
        "id": "Wa-hRvZyLCBC"
      },
      "source": [
        "tousLesContenusPartners = \"\"\"\"\"\"\n",
        "dicoEtiquettagePartners = dict()\n",
        "for ndf in os.listdir(stockageEntree + \"/OUT/ContenusSites/\"):\n",
        "  fichierEntree = stockageEntree + '/OUT/ContenusSites/' +ndf\n",
        "  if not ndf.startswith('.') and \"backlinks\" not in ndf:\n",
        "    # chargement des données collectées par le scrapeur\n",
        "    with open(fichierEntree, 'rb') as  fictemp: #pour ouvrir les contenus \n",
        "      soupe=pickle.load(fictemp)\n",
        "    ndf = ndf.replace('.pkl', '')\n",
        "    \n",
        "    # nettoyage\n",
        "    tousLesContenus = \"\"\"\"\"\" # une longue chaine qui contiendra tous les contenus du type ndf\n",
        "    for url in aGarder[ndf]:\n",
        "      if isPartner(url,partenairesPropres):\n",
        "        tousLesContenus += soupe[url] + \"\\n\" \n",
        "        tousLesContenusPartners += soupe[url] + \"\\n\" \n",
        "    doc = tal(str(tousLesContenus))\n",
        "\n",
        "      \n",
        "    # Si l'environnement n'a pas été redémarré, le code plante ici\n",
        "    dicoEtiquettagePartners[ndf] = dict()\n",
        "\n",
        "    entites = []\n",
        "    for entity in doc.ents:\n",
        "      if entity.label_ not in dicoEtiquettagePartners[ndf].keys():\n",
        "        dicoEtiquettagePartners[ndf][entity.label_] = []\n",
        "        dicoEtiquettagePartners[ndf][entity.label_].append(entity.text)\n",
        "        entites.append(entity.label_)\n",
        "      else:\n",
        "        dicoEtiquettagePartners[ndf][entity.label_].append(entity.text)\n",
        "      #entites.append(entity.text)\n",
        "      #dicoEtiquettage [ndf] [entity.label_] = entites #dico: [étiquettage de entité donné par spacy] = la liste des entités\n",
        "    if 'LOC' in dicoEtiquettagePartners[ndf].keys():\n",
        "        aEviter[ndf] = dicoEtiquettagePartners[ndf]['LOC']\n",
        "    if 'MISC' in dicoEtiquettagePartners[ndf].keys():\n",
        "        aEviter[ndf] += dicoEtiquettagePartners [ndf]['MISC']\n",
        "    if 'PER' in dicoEtiquettagePartners[ndf].keys():\n",
        "        aEviter[ndf] += dicoEtiquettagePartners [ndf]['PER']\n",
        "    if 'ORG' in dicoEtiquettagePartners[ndf].keys():\n",
        "        aEviter[ndf] += dicoEtiquettagePartners[ndf]['ORG']\n",
        "      # utilisation de l'autre modèle plus précis sur les identifications grammaticales dans notre contexte\n",
        "    doc = tal1(str(tousLesContenusPartners).lower())\n",
        "\n",
        "    if ndf not in verbesPartners.keys():\n",
        "        verbesPartners[ndf] = []\n",
        "    if ndf not in adjectifsPartners.keys():\n",
        "        adjectifsPartners[ndf] = []\n",
        "    if ndf not in nomsPartners.keys():\n",
        "        nomsPartners[ndf] = []\n",
        "    \n",
        "    if ndf not in adverbesPartners.keys(): #ADVERBES\n",
        "        adverbesPartners[ndf] = []\n",
        "    # extraction des lemmes et des étiquettes\n",
        "    for truc in doc: \n",
        "        if truc.text not in aEviter[ndf] and truc.text.lower() not in aEviter[ndf]: \n",
        "          if len(truc.text)>2:\n",
        "            if truc.pos_ == \"VERB\":\n",
        "              verbesPartners[ndf].append(truc.lemma_) #ajoute à la liste (.lemma_ fait la lemmatisation)\n",
        "              dicoEtiquettagePartners[ndf][truc.pos_] = verbesPartners[ndf] #ajoute dans le dico: [\"VERB\"] = la liste des verbes\n",
        "            if truc.pos_ == \"ADJ\":\n",
        "              adjectifsPartners[ndf].append(truc.lemma_) \n",
        "              dicoEtiquettagePartners[ndf][truc.pos_] = adjectifsPartners[ndf] #dico:[\"ADJ\"] = la liste des adjectifs\n",
        "            if truc.pos_ == \"NOUN\":\n",
        "              nomsPartners[ndf].append(truc.lemma_)\n",
        "              dicoEtiquettagePartners[ndf][truc.pos_] = nomsPartners[ndf] #dico: [\"NOUN\"] = la liste des noms  \n",
        "            \n",
        "            if truc.pos_ == \"ADV\": \n",
        "              adverbesPartners[ndf].append(truc.lemma_)\n",
        "              dicoEtiquettagePartners[ndf][truc.pos_] = adverbesPartners[ndf] #dico: [\"ADV\"] = la liste des adverbes\n",
        "\n",
        "    tempGram = dict()\n",
        "    for cle in dicoEtiquettagePartners[ndf]:\n",
        "      if ndf not in tempGram.keys():\n",
        "        tempGram[ndf] = dict()\n",
        "      if cle not in tempGram [ndf] .keys():\n",
        "        tempGram[ndf][cle] = Counter(dicoEtiquettagePartners[ndf][cle])\n",
        "      else: # facultatif on devrait jamais passer là\n",
        "        print(\"wtf ?\")"
      ],
      "execution_count": null,
      "outputs": []
    },
    {
      "cell_type": "code",
      "metadata": {
        "id": "JyAVmsFS6Yqy"
      },
      "source": [
        "# Le champ lexical global \n",
        "doc = tal(str(tousLesContenusPartners))\n",
        "\n",
        "champLexPartners  = dict()\n",
        "aEviterPartn = []\n",
        "entites = []\n",
        "for entity in doc.ents:\n",
        "  if entity.label_ not in champLexPartners.keys():\n",
        "        champLexPartners[entity.label_] = []\n",
        "        champLexPartners[entity.label_].append(entity.text)\n",
        "        entites.append(entity.label_)\n",
        "  else:\n",
        "        champLexPartners [entity.label_].append(entity.text)\n",
        "      #entites.append(entity.text)\n",
        "      #dicoEtiquettage [ndf] [entity.label_] = entites #dico: [étiquettage de entité donné par spacy] = la liste des entités\n",
        "  for cat in champLexPartners.keys():\n",
        "    if cat in ['LOC', 'MISC', 'PER', 'ORG']:\n",
        "      aEviterPartn += champLexPartners[cat]"
      ],
      "execution_count": null,
      "outputs": []
    },
    {
      "cell_type": "code",
      "metadata": {
        "id": "q-BjXYl6vgJ7"
      },
      "source": [
        "doc = tal1(str(tousLesContenusPartners).lower())\n",
        "dicoEtiquettagePartnersCat = dict()\n",
        "verbesPartners = []\n",
        "adjectifsPartners = []\n",
        "nomsPartners = []\n",
        "adverbesPartners = []\n",
        "for truc in doc: \n",
        "    if truc.text not in aEviterPartn and truc.text.lower() not in aEviterPartn: \n",
        "          if len(truc.text)>2:\n",
        "            if truc.pos_ == \"VERB\":\n",
        "              verbesPartners.append(truc.lemma_) #ajoute à la liste (.lemma_ fait la lemmatisation)\n",
        "              dicoEtiquettagePartnersCat[truc.pos_] = verbesPartners  #ajoute dans le dico: [\"VERB\"] = la liste des verbes\n",
        "            if truc.pos_ == \"ADJ\":\n",
        "              adjectifsPartners.append(truc.lemma_) \n",
        "              dicoEtiquettagePartnersCat[truc.pos_] = adjectifsPartners  #dico:[\"ADJ\"] = la liste des adjectifs\n",
        "            if truc.pos_ == \"NOUN\":\n",
        "              nomsPartners.append(truc.lemma_)\n",
        "              dicoEtiquettagePartnersCat[truc.pos_] = nomsPartners  #dico: [\"NOUN\"] = la liste des noms  \n",
        "            \n",
        "            if truc.pos_ == \"ADV\": \n",
        "              adverbesPartners .append(truc.lemma_)\n",
        "              dicoEtiquettagePartnersCat[truc.pos_] = adverbesPartners  #dico: [\"ADV\"] = la liste des adverbes\n"
      ],
      "execution_count": null,
      "outputs": []
    },
    {
      "cell_type": "code",
      "metadata": {
        "id": "XghHzUCcBmGU"
      },
      "source": [
        "tempGramPartners = dict()\n",
        "for cle in dicoEtiquettagePartnersCat.keys():\n",
        "  if cle not in tempGramPartners.keys():\n",
        "    tempGramPartners[cle] = Counter(dicoEtiquettagePartnersCat[cle])\n",
        "  else: # facultatif on devrait jamais passer là\n",
        "      print (\"wtf ?\")  "
      ],
      "execution_count": null,
      "outputs": []
    },
    {
      "cell_type": "markdown",
      "metadata": {
        "id": "-yB10ul8rXDf"
      },
      "source": [
        "# Sauvegarde des traitements"
      ]
    },
    {
      "cell_type": "code",
      "metadata": {
        "id": "950hco8TaayQ"
      },
      "source": [
        "fichierDeSortie = stockageSortie + '/OUT/ContenusTraites/' + 'Partners.pkl'\n",
        "with open (fichierDeSortie, 'wb') as  fictemp: #on met tous les contenus dans pickle\n",
        "  pickle.dump(tempGramPartners, fictemp)"
      ],
      "execution_count": null,
      "outputs": []
    },
    {
      "cell_type": "code",
      "metadata": {
        "id": "82l9-Sviang-"
      },
      "source": [
        "fichierDeSortie = stockageSortie + '/OUT/ContenusTraites/' + \"verbesPartners.pkl\"\n",
        "with open (fichierDeSortie, 'wb') as  fictemp: #on met tous les contenus dans pickle\n",
        "  pickle.dump(verbesPartners, fictemp)\n",
        "\n",
        "fichierDeSortie = stockageSortie + '/OUT/ContenusTraites/' + 'nomsPartners.pkl'\n",
        "with open (fichierDeSortie, 'wb') as  fictemp: #on met tous les contenus dans pickle\n",
        "  pickle.dump(nomsPartners, fictemp)\n",
        "\n",
        "fichierDeSortie = stockageSortie + '/OUT/ContenusTraites/' + 'adjectifsPartners.pkl'\n",
        "with open (fichierDeSortie, 'wb') as  fictemp: #on met tous les contenus dans pickle\n",
        "  pickle.dump(adjectifsPartners, fictemp)\n",
        "\n",
        "fichierDeSortie = stockageSortie + '/OUT/ContenusTraites/' + 'adverbesPartners.pkl'\n",
        "with open (fichierDeSortie, 'wb') as  fictemp: #on met tous les contenus dans pickle\n",
        "  pickle.dump(adverbesPartners, fictemp)"
      ],
      "execution_count": null,
      "outputs": []
    },
    {
      "cell_type": "code",
      "metadata": {
        "id": "fZVXuzc3SEGA"
      },
      "source": [
        "fichierDeSortie = stockageSortie + '/OUT/ContenusTraites/' +'PartnersParCat.pkl'\n",
        "with open (fichierDeSortie, 'wb') as  fictemp: #on met tous les contenus dans pickle\n",
        "  pickle.dump(dicoEtiquettagePartnersCat, fictemp)\n"
      ],
      "execution_count": null,
      "outputs": []
    },
    {
      "cell_type": "code",
      "metadata": {
        "id": "69blJhl689ku"
      },
      "source": [
        "fichierDeSortie = stockageSortie + '/OUT/ContenusTraites/' +'Partners.pkl'\n",
        "with open (fichierDeSortie, 'wb') as  fictemp: #on met tous les contenus dans pickle\n",
        "  pickle.dump(dicoEtiquettagePartners, fictemp)"
      ],
      "execution_count": null,
      "outputs": []
    },
    {
      "cell_type": "code",
      "metadata": {
        "id": "OU86B6jsfUCU"
      },
      "source": [
        "fichierDeSortie = stockageSortie + '/OUT/ContenusTraites/' +'stats.pkl'\n",
        "with open (fichierDeSortie, 'wb') as  fictemp: #on met tous les contenus dans pickle\n",
        "  pickle.dump(stats, fictemp)\n"
      ],
      "execution_count": null,
      "outputs": []
    },
    {
      "cell_type": "code",
      "metadata": {
        "id": "lkNxYnLdMv4n"
      },
      "source": [
        "fichierDeSortie = stockageSortie + '/OUT/ContenusTraites/' +\"verbesSites.pkl\"\n",
        "with open (fichierDeSortie, 'wb') as  fictemp: #on met tous les contenus dans pickle\n",
        "  pickle.dump(verbes, fictemp)\n",
        "\n",
        "fichierDeSortie = stockageSortie + '/OUT/ContenusTraites/' +'nomsSites.pkl'\n",
        "with open (fichierDeSortie, 'wb') as  fictemp: #on met tous les contenus dans pickle\n",
        "  pickle.dump(noms, fictemp)\n",
        "\n",
        "fichierDeSortie = stockageSortie + '/OUT/ContenusTraites/' +'adjectifsSites.pkl'\n",
        "with open (fichierDeSortie, 'wb') as  fictemp: #on met tous les contenus dans pickle\n",
        "  pickle.dump(adjectifs, fictemp)\n",
        "\n",
        "fichierDeSortie = stockageSortie + '/OUT/ContenusTraites/' +'adverbesSites.pkl'\n",
        "with open (fichierDeSortie, 'wb') as  fictemp: #on met tous les contenus dans pickle\n",
        "  pickle.dump(adverbes, fictemp)"
      ],
      "execution_count": null,
      "outputs": []
    },
    {
      "cell_type": "code",
      "metadata": {
        "id": "SFW0igd8n3tp",
        "colab": {
          "base_uri": "https://localhost:8080/"
        },
        "outputId": "ce11c8b0-5c13-4f87-b951-8001bf2ac275"
      },
      "source": [
        "dicoEtiquettagePartners.keys()"
      ],
      "execution_count": null,
      "outputs": [
        {
          "output_type": "execute_result",
          "data": {
            "text/plain": [
              "dict_keys(['Hebergement', 'organisations', 'oTourism', 'Gouv', 'locations', 'mairies', 'restauration', 'parcs', 'Services'])"
            ]
          },
          "metadata": {},
          "execution_count": 48
        }
      ]
    },
    {
      "cell_type": "markdown",
      "metadata": {
        "id": "qzbSIBru18wv"
      },
      "source": [
        "# Tests des représentations"
      ]
    },
    {
      "cell_type": "code",
      "metadata": {
        "id": "JBrC7FYv_Wwv"
      },
      "source": [
        "from wordcloud import WordCloud\n",
        "import matplotlib.pyplot as plt\n",
        "from PIL import Image\n",
        "from urllib import parse\n",
        "\n",
        "\n",
        "def makeImage(text):\n",
        "    wc = WordCloud(background_color=\"white\", max_words=100,width=800, height=400)\n",
        "    wc.generate_from_frequencies(text)\n",
        "\n",
        "    plt.imshow(wc, interpolation=\"bilinear\")\n",
        "    plt.axis(\"off\")\n",
        "    plt.show()\n"
      ],
      "execution_count": null,
      "outputs": []
    },
    {
      "cell_type": "code",
      "metadata": {
        "id": "J9hnq2o-Ec34"
      },
      "source": [
        "temp = [\"veuillez preservation pizzas mimosas découvrez venez jouez visitez écoutez lisez\" ]"
      ],
      "execution_count": null,
      "outputs": []
    },
    {
      "cell_type": "code",
      "metadata": {
        "id": "-_wCJI9UBsOm",
        "colab": {
          "base_uri": "https://localhost:8080/",
          "height": 198
        },
        "outputId": "83eb05cd-405b-4a71-8c2a-cc39691fc697"
      },
      "source": [
        "makeImage(tempGramPartners ['ADJ'])"
      ],
      "execution_count": null,
      "outputs": [
        {
          "output_type": "display_data",
          "data": {
            "image/png": "[encoded data removed]",
            "text/plain": [
              "<Figure size 432x288 with 1 Axes>"
            ]
          },
          "metadata": {
            "needs_background": "light"
          }
        }
      ]
    },
    {
      "cell_type": "code",
      "metadata": {
        "id": "hEzFI890sNqq"
      },
      "source": [
        "for key in tempAdv.keys():\n",
        "  print(\"Adverbes les plus courants pour la catégorie : \", key)\n",
        "  makeImage(tempAdv[key])\n",
        "  print(\"\\n\\n\\n\")\n",
        "\n",
        "for key in tempLoc.keys():\n",
        "  print(\"Localisations les plus courants pour la catégorie : \", key)\n",
        "  makeImage(tempLoc[key])\n",
        "  print(\"\\n\\n\\n\")\n",
        "\n",
        "for key in tempOrg.keys():\n",
        "  print(\"Organisations les plus courantes pour la catégorie : \", key)\n",
        "  makeImage(tempOrg[key])\n",
        "  print(\"\\n\\n\\n\")\n",
        "\n",
        "for key in tempPer.keys():\n",
        "  print(\"Personnes les plus courantes pour la catégorie : \", key)\n",
        "  makeImage(tempPer[key])\n",
        "  print(\"\\n\\n\\n\")\n",
        "\n",
        "for key in tempMisc.keys():\n",
        "  print(\"Miscellaneous les plus courants pour la catégorie : \", key)\n",
        "  makeImage(tempMisc[key])\n",
        "  print(\"\\n\\n\\n\")"
      ],
      "execution_count": null,
      "outputs": []
    },
    {
      "cell_type": "code",
      "metadata": {
        "id": "yV_Mev1olDE0"
      },
      "source": [
        "import pickle"
      ],
      "execution_count": 6,
      "outputs": []
    },
    {
      "cell_type": "code",
      "metadata": {
        "id": "5fdS_iodk4v8"
      },
      "source": [
        "fichierDeSortie = stockageSortie + '/ContenusTraites/' +'Partners.pkl'\n",
        "with open (fichierDeSortie, 'rb') as  fictemp: #on met tous les contenus dans pickle\n",
        "  dicoEtiquettagePartners = pickle.load(fictemp)"
      ],
      "execution_count": 7,
      "outputs": []
    },
    {
      "cell_type": "code",
      "metadata": {
        "id": "mp4oKnNxlHmD"
      },
      "source": [
        "import json\n",
        "fichierDeSortie = stockageSortie + '/JSON/' +'ListePartners.json'\n",
        "with open(fichierDeSortie, 'w', encoding='utf-8') as f:\n",
        "    json.dump(list(dicoEtiquettagePartners .keys()),f )"
      ],
      "execution_count": 10,
      "outputs": []
    },
    {
      "cell_type": "code",
      "metadata": {
        "id": "Jc8Wlmleli4b"
      },
      "source": [
        "dicoEtiquettagePartners"
      ],
      "execution_count": null,
      "outputs": []
    },
    {
      "cell_type": "code",
      "metadata": {
        "id": "F-yiv6qLl18k"
      },
      "source": [
        "import json\n",
        "fichierDeSortie = stockageSortie + '/JSON/' +'ContenusPartners.json'\n",
        "with open(fichierDeSortie, 'w', encoding='utf-8') as f:\n",
        "    json.dump(dicoEtiquettagePartners,f )"
      ],
      "execution_count": 12,
      "outputs": []
    }
  ]
}